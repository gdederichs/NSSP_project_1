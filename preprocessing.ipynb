{
 "cells": [
  {
   "cell_type": "code",
<<<<<<< HEAD
   "execution_count": 1,
   "id": "2b6dc1a6-c057-4d60-a79a-82927cbf3550",
   "metadata": {},
   "outputs": [],
=======
   "execution_count": 2,
   "id": "ddb3e06b-bfdb-469e-9b60-7490ba2c393a",
   "metadata": {
    "scrolled": true
   },
   "outputs": [
    {
     "name": "stdout",
     "output_type": "stream",
     "text": [
      "The autoreload extension is already loaded. To reload it, use:\n",
      "  %reload_ext autoreload\n"
     ]
    }
   ],
>>>>>>> 410645aee8b2f8abf51392f45c303395214b4b5a
   "source": [
    "%gui wx\n",
    "\n",
    "%load_ext autoreload\n",
    "%autoreload 2\n",
    "import sys\n",
    "import os\n",
    "\n",
    "#####################\n",
    "# Import of utils.py functions\n",
    "#####################\n",
    "# Required to get utils.py and access its functions\n",
    "notebook_dir = os.path.abspath(\"\")\n",
    "parent_dir = os.path.abspath(os.path.join(notebook_dir, '..'))\n",
    "sys.path.append(parent_dir)\n",
    "sys.path.append('.')\n",
    "from utils import loadFSL, FSLeyesServer, mkdir_no_exist\n",
    "\n",
    "####################\n",
    "# DIPY_HOME should be set prior to import of dipy to make sure all downloads point to the right folder\n",
    "####################\n",
    "os.environ[\"DIPY_HOME\"] = \"/home/jovyan/Data\"\n",
    "#############################\n",
    "# Loading fsl and freesurfer within Neurodesk\n",
    "# You can find the list of available other modules by clicking on the \"Softwares\" tab on the left\n",
    "#############################\n",
    "import lmod\n",
    "await lmod.purge(force=True)\n",
    "await lmod.load('fsl/6.0.7.4')\n",
    "await lmod.load('freesurfer/7.4.1')\n",
    "await lmod.list()\n",
    "\n",
    "####################\n",
    "# Setup FSL path\n",
    "####################\n",
    "loadFSL()\n",
    "\n",
    "###################\n",
    "# Load all relevant libraries for the lab\n",
    "##################\n",
    "import fsl.wrappers\n",
    "from fsl.wrappers import fslmaths\n",
    "\n",
    "import nilearn\n",
    "#from nilearn.datasets import fetch_development_fmri\n",
    "\n",
    "import mne\n",
    "import mne_nirs\n",
    "import dipy\n",
    "#from dipy.data import fetch_bundles_2_subjects, read_bundles_2_subjects\n",
    "import xml.etree.ElementTree as ET\n",
    "import os.path as op\n",
    "import nibabel as nib\n",
    "import glob\n",
    "import subprocess\n",
    "import ants\n",
    "\n",
    "import openneuro\n",
    "from mne.datasets import sample\n",
    "from mne_bids import BIDSPath, read_raw_bids, print_dir_tree, make_report # not all used\n",
    "\n",
    "\n",
    "# Useful imports to define the direct download function below\n",
    "import requests\n",
    "import urllib.request\n",
    "from tqdm import tqdm\n",
    "\n",
    "\n",
    "# FSL function wrappers which we will call from python directly\n",
    "from fsl.wrappers import fast, bet\n",
    "from fsl.wrappers.misc import fslroi\n",
    "from fsl.wrappers import flirt\n",
    "\n",
    "import pandas as pd"
   ]
  },
  {
   "cell_type": "code",
<<<<<<< HEAD
   "execution_count": 2,
   "id": "b7c9b6bd-99b5-4496-9286-4cbc49e86d98",
=======
   "execution_count": 3,
   "id": "b3dafa9c-8251-45c4-8395-77fc8eb8180e",
>>>>>>> 410645aee8b2f8abf51392f45c303395214b4b5a
   "metadata": {},
   "outputs": [],
   "source": [
    "current_dir = os.path.abspath(\"\")\n",
<<<<<<< HEAD
    "sys.path.append(current_dir)"
   ]
  },
  {
   "cell_type": "code",
   "execution_count": 3,
   "id": "bff2d82f-266c-4f26-bc8f-83fbae95ad53",
   "metadata": {},
   "outputs": [],
   "source": [
=======
    "#print(f\"current_dir: {current_dir}\")\n",
    "sys.path.append(current_dir)\n",
    "\n",
>>>>>>> 410645aee8b2f8abf51392f45c303395214b4b5a
    "dataset_id = 'ds000171'\n",
    "subjects = ['sub-control{:02d}'.format(i+1) for i in range(20)]\n",
    "\n",
    "dataset_path = os.path.join(current_dir, \"data\", dataset_id)\n",
    "deriv_path = os.path.join(current_dir,\"data\", \"derivatives\")\n",
    "preproc_path = os.path.join(deriv_path, 'preprocessed_data')\n",
    "\n",
    "subject = \"sub-control01\"\n",
    "task = 'music'\n",
    "mkdir_no_exist(dataset_path)\n",
    "mkdir_no_exist(preproc_path)"
   ]
  },
  {
   "cell_type": "code",
   "execution_count": 8,
   "id": "aade4da7-1157-443c-b6be-05fd1e7f2d21",
   "metadata": {},
   "outputs": [
    {
     "name": "stderr",
     "output_type": "stream",
     "text": [
      "09:16:47: Debug: Adding duplicate image handler for 'Windows bitmap file'\n",
      "09:16:47: Debug: Adding duplicate animation handler for '1' type\n",
      "09:16:47: Debug: Adding duplicate animation handler for '2' type\n",
      "09:16:48: Debug: Adding duplicate image handler for 'Windows bitmap file'\n",
      "09:16:48: Debug: Adding duplicate animation handler for '1' type\n",
      "09:16:48: Debug: Adding duplicate animation handler for '2' type\n",
      "\n",
      "(ipykernel_launcher.py:463): Gtk-CRITICAL **: 09:16:49.693: gtk_window_resize: assertion 'height > 0' failed\n"
     ]
    }
   ],
   "source": [
    "fsleyesDisplay = FSLeyesServer()\n",
    "fsleyesDisplay.show()"
   ]
  },
  {
   "cell_type": "markdown",
   "id": "aba14914-5a25-441f-8b26-cd3795cdabe2",
   "metadata": {},
   "source": [
    "### Overview of the brain before any preprocessing"
   ]
  },
  {
   "cell_type": "code",
   "execution_count": 4,
   "id": "7a730449-ff15-4b07-976f-90c6b7585a2f",
   "metadata": {},
   "outputs": [],
   "source": [
    "anatomical_path = op.join(dataset_path, subject, 'anat', '{}_T1w.nii.gz').format(subject)"
   ]
  },
  {
   "cell_type": "code",
<<<<<<< HEAD
   "execution_count": 4,
   "id": "aade4da7-1157-443c-b6be-05fd1e7f2d21",
=======
   "execution_count": null,
   "id": "5f7a45f0-2e82-4408-ac75-3d9823140ca8",
   "metadata": {},
   "outputs": [],
   "source": [
    "fsleyesDisplay.resetOverlays()\n",
    "fsleyesDisplay.load(anatomical_path)"
   ]
  },
  {
   "cell_type": "markdown",
   "id": "799fc6f1-8d98-4134-b584-26cc9977980b",
   "metadata": {},
   "source": [
    "# 1. Skull Removal and fast tissue segmentation"
   ]
  },
  {
   "cell_type": "code",
   "execution_count": 5,
   "id": "9ce668b1-d3aa-48b0-b8e0-d03d773b3467",
   "metadata": {},
   "outputs": [
    {
     "name": "stdout",
     "output_type": "stream",
     "text": [
      "Done with BET.\n"
     ]
    }
   ],
   "source": [
    "from preprocessed import get_skull_stripped_anatomical\n",
    "\n",
    "resulting_mask = get_skull_stripped_anatomical(dataset_path, preproc_path, subject, robust=True)"
   ]
  },
  {
   "cell_type": "code",
   "execution_count": null,
   "id": "85c60a04-d8fd-410c-9a67-4c179592ece8",
   "metadata": {},
   "outputs": [],
   "source": [
    "fsleyesDisplay.resetOverlays()\n",
    "\n",
    "fsleyesDisplay.load(op.join(dataset_path, subject, 'anat', '{}_T1w.nii.gz').format(subject))\n",
    "fsleyesDisplay.load(resulting_mask)"
   ]
  },
  {
   "cell_type": "code",
   "execution_count": 10,
   "id": "81d43988-c127-423c-a097-cb9349e4a079",
   "metadata": {},
   "outputs": [],
   "source": [
    "# The brain without skull is in the derivatives folder\n",
    "from preprocessed import apply_fsl_mask\n",
    "\n",
    "betted_brain_path = apply_fsl_mask(dataset_path, resulting_mask, preproc_path, subject)"
   ]
  },
  {
   "cell_type": "code",
   "execution_count": null,
   "id": "7f871464-8004-42c0-8575-47afc403e2a1",
   "metadata": {},
   "outputs": [],
   "source": [
    "fsleyesDisplay.resetOverlays()\n",
    "fsleyesDisplay.load(betted_brain_path)"
   ]
  },
  {
   "cell_type": "code",
   "execution_count": null,
   "id": "96036c49-6463-42e4-bf63-75e76d3b8a1d",
   "metadata": {},
   "outputs": [],
   "source": [
    "#TODO discuss segmentation, not done because files not available - field map unwarping"
   ]
  },
  {
   "cell_type": "code",
   "execution_count": 7,
   "id": "dbd5d506-f44e-4640-9449-ea3c035e6a2b",
   "metadata": {},
   "outputs": [
    {
     "name": "stdout",
     "output_type": "stream",
     "text": [
      "Done with fast\n"
     ]
    }
   ],
   "source": [
    "from preprocessed import apply_fast\n",
    "segmentation_path = apply_fast(preproc_path, subject)"
   ]
  },
  {
   "cell_type": "code",
   "execution_count": 11,
   "id": "9b3c2f26-07d2-4076-bcdf-f74a3b6b0164",
   "metadata": {
    "scrolled": true
   },
   "outputs": [],
   "source": [
    "fsleyesDisplay.resetOverlays()\n",
    "fsleyesDisplay.load(betted_brain_path)\n",
    "fsleyesDisplay.load(glob.glob(op.join(preproc_path, subject, 'anat','*pve_0*'))[0])\n",
    "fsleyesDisplay.load(glob.glob(op.join(preproc_path, subject, 'anat','*pve_1*'))[0])\n",
    "fsleyesDisplay.load(glob.glob(op.join(preproc_path, subject, 'anat','*pve_2*'))[0])\n",
    "fsleyesDisplay.displayCtx.getOpts(fsleyesDisplay.overlayList[1]).cmap = 'Red'\n",
    "fsleyesDisplay.displayCtx.getOpts(fsleyesDisplay.overlayList[2]).cmap = 'Green'\n",
    "fsleyesDisplay.displayCtx.getOpts(fsleyesDisplay.overlayList[3]).cmap = 'Blue'"
   ]
  },
  {
   "cell_type": "markdown",
   "id": "8a5e30be-f473-4abf-b7fd-2bcd497099c6",
   "metadata": {},
   "source": [
    "## Linear normalization using Ants\n",
    "Using advanced normalization tools (ANTS), we standardize the fMRI to a standard, to be able to do comparisons."
   ]
  },
  {
   "cell_type": "code",
   "execution_count": 9,
   "id": "f5ab00e4-fe40-4262-9d7b-00c097492f99",
   "metadata": {},
   "outputs": [],
   "source": [
    "%autoreload 3"
   ]
  },
  {
   "cell_type": "code",
   "execution_count": 13,
   "id": "4225b062-a9d3-4b4e-beb8-424066df4734",
   "metadata": {},
   "outputs": [],
   "source": [
    "mni_template = op.expandvars(op.join('$FSLDIR', 'data', 'standard', 'MNI152_T1_1mm_brain'))"
   ]
  },
  {
   "cell_type": "code",
   "execution_count": 14,
   "id": "6ca4e23d-4e50-401f-9f6d-f50f5af308a9",
   "metadata": {},
   "outputs": [],
   "source": [
    "from preprocessed import apply_ants\n",
    "\n",
    "t1w_mni = apply_ants(preproc_path, subject, mni_template)"
   ]
  },
  {
   "cell_type": "code",
   "execution_count": null,
   "id": "03a696a3-73b8-43cf-a878-b58b76189f60",
   "metadata": {},
   "outputs": [],
   "source": [
    "fsleyesDisplay.resetOverlays()\n",
    "fsleyesDisplay.load(mni_template)\n",
    "fsleyesDisplay.load(t1w_mni)"
   ]
  },
  {
   "cell_type": "markdown",
   "id": "edd866d4-7e09-4a9c-9180-53bc11dcd890",
   "metadata": {},
   "source": [
    "## Field Stabilisation\n",
    "Field Stabilisation doesn't seem necessary"
   ]
  },
  {
   "cell_type": "code",
   "execution_count": null,
   "id": "7061a573-d260-46d6-b422-4e9cf253b21b",
   "metadata": {
    "scrolled": true
   },
   "outputs": [],
   "source": [
    "import matplotlib.pyplot as plt\n",
    "import nibabel as nib\n",
    "\n",
    "plt.plot(nib.load(\"/data/data/ds000171/sub-control01/func/sub-control01_task-music_run-1_bold.nii.gz\").get_fdata().mean(axis=(0,1,2)))\n",
    "plt.xlabel('Time (volume)')\n",
    "plt.ylabel('Mean voxel intensity')"
   ]
  },
  {
   "cell_type": "markdown",
   "id": "b509d033-3daf-4c91-ab16-00be8bda3479",
   "metadata": {},
   "source": [
    "# fMRI Preprocessing"
   ]
  },
  {
   "cell_type": "code",
   "execution_count": 17,
   "id": "e9f36b99-6aef-4676-93d6-b5f9741b77fc",
   "metadata": {},
   "outputs": [
    {
     "name": "stderr",
     "output_type": "stream",
     "text": [
      "Processed data will be saved as /data/data/derivatives/preprocessed_data/sub-control01/func/sub-control01_task-music_run-all_bold_moco\n",
      "\n",
      "McFLIRT v 2.0 - FMRI motion correction\n",
      "\n",
      "Reading time series... \n",
      "first iteration - 8mm scaling, set tolerance\n",
      "Rescaling reference volume [-1] to 8 mm pixels\n",
      "Registering volumes ... [0][1][2][3][4][5][6][7][8][9][10][11][12][13][14][15][16][17][18][19][20][21][22][23][24][25][26][27][28][29][30][31][32][33][34][35][36][37][38][39][40][41][42][43][44][45][46][47][48][49][50][51][52][53][54][55][56][57][58][59][60][61][62][63][64][65][66][67][68][69][70][71][72][73][74][75][76][77][78][79][80][81][82][83][84][85][86][87][88][89][90][91][92][93][94][95][96][97][98][99][100][101][102][103][104][105][106][107][108][109][110][111][112][113][114][115][116][117][118][119][120][121][122][123][124][125][126][127][128][129][130][131][132][133][134][135][136][137][138][139][140][141][142][143][144][145][146][147][148][149][150][151][152][153][154][155][156][157][158][159][160][161][162][163][164][165][166][167][168][169][170][171][172][173][174][175][176][177][178][179][180][181][182][183][184][185][186][187][188][189][190][191][192][193][194][195][196][197][198][199][200][201][202][203][204][205][206][207][208][209][210][211][212][213][214][215][216][217][218][219][220][221][222][223][224][225][226][227][228][229][230][231][232][233][234][235][236][237][238][239][240][241][242][243][244][245][246][247][248][249][250][251][252][253][254][255][256][257][258][259][260][261][262][263][264][265][266][267][268][269][270][271][272][273][274][275][276][277][278][279][280][281][282][283][284][285][286][287][288][289][290][291][292][293][294][295][296][297][298][299][300][301][302][303][304][305][306][307][308][309][310][311][312][313][314]\n",
      "second iteration - drop to 4mm scaling\n",
      "Rescaling reference volume [-1] to 4 mm pixels\n",
      "Registering volumes ... [0][1][2][3][4][5][6][7][8][9][10][11][12][13][14][15][16][17][18][19][20][21][22][23][24][25][26][27][28][29][30][31][32][33][34][35][36][37][38][39][40][41][42][43][44][45][46][47][48][49][50][51][52][53][54][55][56][57][58][59][60][61][62][63][64][65][66][67][68][69][70][71][72][73][74][75][76][77][78][79][80][81][82][83][84][85][86][87][88][89][90][91][92][93][94][95][96][97][98][99][100][101][102][103][104][105][106][107][108][109][110][111][112][113][114][115][116][117][118][119][120][121][122][123][124][125][126][127][128][129][130][131][132][133][134][135][136][137][138][139][140][141][142][143][144][145][146][147][148][149][150][151][152][153][154][155][156][157][158][159][160][161][162][163][164][165][166][167][168][169][170][171][172][173][174][175][176][177][178][179][180][181][182][183][184][185][186][187][188][189][190][191][192][193][194][195][196][197][198][199][200][201][202][203][204][205][206][207][208][209][210][211][212][213][214][215][216][217][218][219][220][221][222][223][224][225][226][227][228][229][230][231][232][233][234][235][236][237][238][239][240][241][242][243][244][245][246][247][248][249][250][251][252][253][254][255][256][257][258][259][260][261][262][263][264][265][266][267][268][269][270][271][272][273][274][275][276][277][278][279][280][281][282][283][284][285][286][287][288][289][290][291][292][293][294][295][296][297][298][299][300][301][302][303][304][305][306][307][308][309][310][311][312][313][314]\n",
      "third iteration - 4mm scaling, eighth tolerance\n",
      "Registering volumes ... [0][1][2][3][4][5][6][7][8][9][10][11][12][13][14][15][16][17][18][19][20][21][22][23][24][25][26][27][28][29][30][31][32][33][34][35][36][37][38][39][40][41][42][43][44][45][46][47][48][49][50][51][52][53][54][55][56][57][58][59][60][61][62][63][64][65][66][67][68][69][70][71][72][73][74][75][76][77][78][79][80][81][82][83][84][85][86][87][88][89][90][91][92][93][94][95][96][97][98][99][100][101][102][103][104][105][106][107][108][109][110][111][112][113][114][115][116][117][118][119][120][121][122][123][124][125][126][127][128][129][130][131][132][133][134][135][136][137][138][139][140][141][142][143][144][145][146][147][148][149][150][151][152][153][154][155][156][157][158][159][160][161][162][163][164][165][166][167][168][169][170][171][172][173][174][175][176][177][178][179][180][181][182][183][184][185][186][187][188][189][190][191][192][193][194][195][196][197][198][199][200][201][202][203][204][205][206][207][208][209][210][211][212][213][214][215][216][217][218][219][220][221][222][223][224][225][226][227][228][229][230][231][232][233][234][235][236][237][238][239][240][241][242][243][244][245][246][247][248][249][250][251][252][253][254][255][256][257][258][259][260][261][262][263][264][265][266][267][268][269][270][271][272][273][274][275][276][277][278][279][280][281][282][283][284][285][286][287][288][289][290][291][292][293][294][295][296][297][298][299][300][301][302][303][304][305][306][307][308][309][310][311][312][313][314]\n",
      "Saving motion corrected time series... \n"
     ]
    },
    {
     "data": {
      "text/plain": [
       "CompletedProcess(args=['fslmaths', '/data/data/derivatives/preprocessed_data/sub-control01/func/sub-control01_task-music_run-all_bold_moco', '-s', '2.547987090198743', '/data/data/derivatives/preprocessed_data/sub-control01/func/final/sub-control01_task-music_run-all_bold_NoStd_smoothed-6mm'], returncode=0)"
      ]
     },
     "execution_count": 17,
     "metadata": {},
     "output_type": "execute_result"
    }
   ],
   "source": [
    "#Marianne and Gregor please run this cell\n",
    "\n",
    "#merging the runs\n",
    "runs = []\n",
    "bids_root = dataset_path\n",
    "for i in range(3):\n",
    "    run = os.path.join(bids_root, subject, 'func', '{}_task-{}_run-{}_bold'.format(subject, task, i+1))\n",
    "    runs.append(run)\n",
    "    \n",
    "all_runs = os.path.join(preproc_path, subject, 'func', '{}_task-{}_run-{}_bold'.format(subject, task, 'all'))\n",
    "subprocess.run(['fslmerge', '-t', all_runs, runs[0], runs[1], runs[2]])\n",
    "\n",
    "#applying motion correction\n",
    "\n",
    "from preprocessed import apply_mcflirt\n",
    "task = 'music'\n",
    "run = 'all'\n",
    "path_moco_data, reference_moco = apply_mcflirt(preproc_path, preproc_path, subject, task, run) # twice preproc_path since we start from 'all'\n",
    "\n",
    "voxel_smooth = 6\n",
    "\n",
    "mkdir_no_exist(op.join(preproc_path, subject, 'func', 'final'))\n",
    "output_path = op.join(preproc_path, subject, 'func', 'final','sub-control01_task-music_run-all_bold_NoStd') \n",
    "subprocess.run(['fslmaths',path_moco_data, '-s', str(voxel_smooth/2.3548), '{}_smoothed-6mm'.format(output_path)])\n"
   ]
  },
  {
   "cell_type": "code",
   "execution_count": 18,
   "id": "f586cabb-9e29-459e-a861-da7213ed4f0d",
   "metadata": {},
   "outputs": [],
   "source": [
    "fsleyesDisplay.resetOverlays()\n",
    "fsleyesDisplay.load(output_path+'_smoothed-6mm')"
   ]
  },
  {
   "cell_type": "code",
   "execution_count": 87,
   "id": "9dcd5a82-01b0-46ab-aa0e-3c86675dcf7b",
   "metadata": {
    "scrolled": true
   },
   "outputs": [],
   "source": [
    "#standardize the runs and concatenate them together\n",
    "runs = []\n",
    "bids_root = dataset_path\n",
    "for i in range(3):\n",
    "    run = os.path.join(bids_root, subject, 'func', '{}_task-{}_run-{}_bold'.format(subject, task, i+1))\n",
    "    mean = run.replace('ds000171', 'derivatives/preprocessed_data') + '_mean' \n",
    "    std = run.replace('ds000171', 'derivatives/preprocessed_data') + '_std'\n",
    "    norm = run.replace('ds000171', 'derivatives/preprocessed_data') + '_norm'\n",
    "    subprocess.run(['fslmaths', run, '-Tmean', mean]) # compute mean\n",
    "    subprocess.run(['fslmaths', run, '-Tstd', std]) # compute standard deviation\n",
    "    subprocess.run(['fslmaths', run, '-sub', mean, '-div', std, norm]) # z-score/ standardizaiton\n",
    "    \n",
    "    fsleyesDisplay.resetOverlays()\n",
    "    fsleyesDisplay.load(mean)\n",
    "    fsleyesDisplay.load(run)\n",
    "    fsleyesDisplay.load(norm)\n",
    "\n",
    "    #delete files \n",
    "    os.system('rm -rf {}'.format(op.join(preproc_path, subject, 'func', '*_mean*'))) \n",
    "    os.system('rm -rf {}'.format(op.join(preproc_path, subject, 'func', '*_std*')))\n",
    "    runs.append(norm)\n",
    "    \n",
    "all_runs = os.path.join(preproc_path, subject, 'func', '{}_task-{}_run-{}_bold'.format(subject, task, 'all'))\n",
    "subprocess.run(['fslmerge', '-t', all_runs, runs[0], runs[1], runs[2]])\n",
    "os.system('rm -rf {}'.format(op.join(preproc_path, subject, 'func', '*_norm*')))"
   ]
  },
  {
   "cell_type": "code",
   "execution_count": 107,
   "id": "97da3ea0-085e-4b23-92aa-a27240a5cd4d",
   "metadata": {},
   "outputs": [
    {
     "data": {
      "text/plain": [
       "Text(0, 0.5, 'Mean voxel intensity')"
      ]
     },
     "execution_count": 107,
     "metadata": {},
     "output_type": "execute_result"
    },
    {
     "data": {
      "image/png": "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",
      "text/plain": [
       "<Figure size 640x480 with 1 Axes>"
      ]
     },
     "metadata": {},
     "output_type": "display_data"
    }
   ],
   "source": [
    "i=0\n",
    "bids_root = dataset_path\n",
    "\n",
    "run = os.path.join(bids_root, subject, 'func', '{}_task-{}_run-{}_bold'.format(subject, task, i+1))\n",
    "mean = run.replace('ds000171', 'derivatives/preprocessed_data') + '_mean' \n",
    "std = run.replace('ds000171', 'derivatives/preprocessed_data') + '_std'\n",
    "norm = run.replace('ds000171', 'derivatives/preprocessed_data') + '_norm'\n",
    "subprocess.run(['fslmaths', run, '-Tmean', mean])\n",
    "subprocess.run(['fslmaths', run, '-Tstd', std])\n",
    "subprocess.run(['fslmaths', run, '-sub', mean, '-div', std, norm])\n",
    "fsleyesDisplay.resetOverlays()\n",
    "fsleyesDisplay.load(mean)\n",
    "fsleyesDisplay.load(run)\n",
    "fsleyesDisplay.load(norm)\n",
    "os.system('rm -rf {}'.format(op.join(preproc_path, subject, 'func', '*_mean*')))\n",
    "os.system('rm -rf {}'.format(op.join(preproc_path, subject, 'func', '*_std*')))\n",
    "\n",
    "import matplotlib.pyplot as plt\n",
    "import nibabel as nib\n",
    "\n",
    "plt.plot(nib.load(op.join(norm+'.nii.gz')).get_fdata().mean(axis=(0,1,2)))\n",
    "plt.xlabel('Time (volume)')\n",
    "plt.ylabel('Mean voxel intensity')\n"
   ]
  },
  {
   "cell_type": "code",
   "execution_count": 104,
   "id": "2cbc773c-e83d-43b3-997e-39204a936abc",
   "metadata": {},
   "outputs": [],
   "source": []
  },
  {
   "cell_type": "markdown",
   "id": "c701fa91-150a-47f0-8e8b-4d4f974a00ee",
   "metadata": {},
   "source": [
    "## Motion correction"
   ]
  },
  {
   "cell_type": "code",
   "execution_count": null,
   "id": "bc402bde-ab27-45a3-a453-bc70b6094063",
   "metadata": {
    "scrolled": true
   },
   "outputs": [],
   "source": [
    "from preprocessed import apply_mcflirt\n",
    "task = 'music'\n",
    "run = 'all'\n",
    "path_moco_data, reference_moco = apply_mcflirt(preproc_path, preproc_path, subject, task, run) # twice preproc_path since we start from 'all'\n",
    "fsleyesDisplay.resetOverlays()\n",
    "fsleyesDisplay.load(path_moco_data)"
   ]
  },
  {
   "cell_type": "markdown",
   "id": "af45961c-9c16-4032-b7f4-1a2b9b86da56",
   "metadata": {},
   "source": [
    "## Epi to anatomical coregistration"
   ]
  },
  {
   "cell_type": "code",
   "execution_count": null,
   "id": "28781a31-4fd8-43d3-a477-c057b378c523",
   "metadata": {},
   "outputs": [],
   "source": [
    "# TODOOOOO reference_epi should be done on the moco one, ??? serie3 "
   ]
  },
  {
   "cell_type": "markdown",
   "id": "e4dcdf84-98e7-41b5-97b2-1204cd078d55",
   "metadata": {},
   "source": [
    "Improvements forum: I usually use mcflirt with the  -meanvol option and then use the mean functional volume as input to  epi_reg."
   ]
  },
  {
   "cell_type": "code",
   "execution_count": 50,
   "id": "aba4ad06-dc6f-4d0a-a12b-fa2b007e56ba",
   "metadata": {},
   "outputs": [
    {
     "name": "stdout",
     "output_type": "stream",
     "text": [
      "FLIRT pre-alignment\n",
      "Running BBR\n",
      "0.297502 0.999221 -0.039210 -0.004466 0.000000 0.039258 0.999165 0.011356 0.000000 0.004017 -0.011523 0.999925 0.000000 -5.417383 9.646792 -0.993922 1.000000 \n",
      "Done with EPI to anatomical registration\n"
     ]
    }
   ],
   "source": [
    "from preprocessed import apply_epi_reg\n",
    "epi_reg_path, reference_epi = apply_epi_reg(dataset_path, preproc_path, path_moco_data, subject, task, run)\n",
    "# We did the coregistration of the reference volume and get a transform, now we need to apply it to all volumes"
   ]
  },
  {
   "cell_type": "code",
   "execution_count": 51,
   "id": "9b34cd02-4eae-43bd-ad2c-9219e2222236",
   "metadata": {},
   "outputs": [],
   "source": [
    "# Inspect here if transformations worked\n",
    "fsleyesDisplay.resetOverlays()\n",
    "fsleyesDisplay.load(betted_brain_path)\n",
    "fsleyesDisplay.load(epi_reg_path)"
   ]
  },
  {
   "cell_type": "markdown",
   "id": "c49d217c-e502-499a-91d5-3266c6816919",
   "metadata": {},
   "source": [
    "Now, how do we *know* if the registration is good or bad?\n",
    "Well, there are several things to watch out for, but here are some main leads:\n",
    "- Is the functional in the right orientation?\n",
    "- Are the ventricles correctly aligned?\n",
    "- Are the boundaries of the EPI more or less matching the anatomical?\n",
    "\n",
    "➡️ You can also check how the white matter of the EPI matches your anatomical's white matter provided you have sufficient resolution\n",
    "\n",
    "Note: __fast__ files are there for vizualisation purposes (they delete them)\n",
    "\n",
    "Please ensure that:\n",
    "- [ ] Applying ONLY motion correction transformation to the first volume yields the expected alignement (so it should be aligned with the \\_moco volume.)\n",
    "- [ ] Applying motion correction + epi -> anat should be aligned to anatomical\n",
    "- [ ] Finally, applying motion correction + epi > anat + anat > standard should be aligned to the standard"
   ]
  },
  {
   "cell_type": "markdown",
   "id": "70b4cf34-aa5b-48b2-a06d-5696c8a5b2a3",
   "metadata": {},
   "source": [
    "Applying the transformation to a single volume is nice, but we should still need to know where the transformation was saved, to apply it to all other volumes of interest."
   ]
  },
  {
   "cell_type": "code",
   "execution_count": 55,
   "id": "be3fbe05-696b-49d6-af6f-ffd815f25850",
   "metadata": {},
   "outputs": [],
   "source": [
    "path_epi_transform = op.join(preproc_path, subject, 'func/sub-control01_task-music_run-1_bold_anat-space_epi.mat')"
   ]
  },
  {
   "cell_type": "code",
   "execution_count": 63,
   "id": "475b1408-f205-4044-8d27-7f801eaded02",
   "metadata": {
    "scrolled": true
   },
   "outputs": [
    {
     "name": "stderr",
     "output_type": "stream",
     "text": [
      "Usage: /opt/fsl-6.0.7.4/bin/applyxfm4D <input volume> <ref volume> <output volume> <transformation matrix file/dir>\n",
      "\n",
      "\t--interp, -interp <nearestneighbour (or nn), trilinear, spline, sinc (default)>\n",
      "\t--singlematrix, -singlematrix (flag option, do not provide an argument)\n",
      "\t--fourdigit, -fourdigit (flag option, do not provide an argument)\n",
      "\t--userprefix, -userprefix <prefix>\n",
      "\n"
     ]
    },
    {
     "data": {
      "text/plain": [
       "65280"
      ]
     },
     "execution_count": 63,
     "metadata": {},
     "output_type": "execute_result"
    }
   ],
   "source": [
    "os.system('applyxfm4D') #Usage: applyxfm4D <input volume> <ref volume> <output volume> <transformation matrix file/dir>"
   ]
  },
  {
   "cell_type": "code",
   "execution_count": null,
   "id": "9413e630-2b3e-4723-9709-fc2feec6dad0",
   "metadata": {
    "scrolled": true
   },
   "outputs": [],
   "source": [
    "# apply the transformation to all volumes\n",
    "all_epi = epi_reg_path+'_4d'\n",
    "#This should work with one transform for all volumes but apparently he wants one mat file per volume\n",
    "#result = subprocess.run(['applyxfm4D', path_moco_data, anatomical_path, all_epi,path_epi_transform]) #, '-userprefix', ''\n",
    "\n",
    "#Alternative that does not work neither\n",
    "#subprocess.run(['flirt', '-in', path_moco_data, '-ref', anatomical_path,'-out', all_epi, '-init', path_epi_transform,'-applyxfm'])"
   ]
  },
  {
   "cell_type": "code",
   "execution_count": 70,
   "id": "e8e233c2-4e69-4bec-8b27-a41876535155",
   "metadata": {
    "scrolled": true
   },
   "outputs": [
    {
     "data": {
      "text/plain": [
       "CompletedProcess(args=['fslsplit', '/data/data/derivatives/preprocessed_data/sub-control01/func/sub-control01_task-music_run-1_bold_moco', '/data/data/derivatives/preprocessed_data/sub-control01/func/splits/sub-control01_task-music_run-1_bold_split', '-t'], returncode=0)"
      ]
     },
     "execution_count": 70,
     "metadata": {},
     "output_type": "execute_result"
    }
   ],
   "source": [
    "# We split the volumes and apply it one by one\n",
    "split_target = path_moco_data\n",
    "splits_path = op.join(preproc_path, subject, 'func','splits')\n",
    "mkdir_no_exist(splits_path)\n",
    "split_name = op.join(splits_path, 'sub-control01_task-music_run-1_bold_split')\n",
    "\n",
    "subprocess.run(['fslsplit', split_target, split_name, '-t'])"
   ]
  },
  {
   "cell_type": "code",
   "execution_count": 77,
   "id": "5a66f5ab-13f3-46dc-958e-a1542144730d",
   "metadata": {},
   "outputs": [],
   "source": [
    "split_vols = sorted(glob.glob(op.join(splits_path, '*_bold_split*')))\n",
    "for i,split_vol in enumerate(split_vols): \n",
    "    split_nbr = split_vol.split('_')[-1].split('.')[0].split('split')[1]\n",
    "    out_vol= op.join(preproc_path, subject, 'func', 'splits_epi','sub-control01_task-music_run-1_bold_epi_vol' + split_nbr)\n",
    "    \n",
    "    subprocess.run(['flirt', '-in', split_vol, '-ref', anatomical_path,'-out', out_vol,\n",
    "                        '-init', path_epi_transform,'-applyxfm'])"
   ]
  },
  {
   "cell_type": "code",
   "execution_count": 68,
   "id": "52e0bb60-9019-4134-b93f-c2b38b7f0e54",
   "metadata": {},
   "outputs": [
    {
     "data": {
      "text/plain": [
       "0"
      ]
     },
     "execution_count": 68,
     "metadata": {},
     "output_type": "execute_result"
    }
   ],
   "source": [
    "os.system('rm -rf {}'.format(op.join(preproc_path, subject, 'func', '*_bold_split*')))"
   ]
  },
  {
   "cell_type": "markdown",
   "id": "ce68a5ad-79a0-4279-98e2-8acb374144ee",
   "metadata": {
    "jp-MarkdownHeadingCollapsed": true
   },
   "source": [
    "## For looking up stuff only, don't run"
   ]
  },
  {
   "cell_type": "code",
   "execution_count": null,
   "id": "c66fac4a-978c-4d49-8133-855746c83303",
   "metadata": {},
   "outputs": [],
   "source": [
    "from fsl.wrappers import applywarp\n",
    "\n",
    "# We show this one when selecting the first EPI (volume 0000) \n",
    "target_epi = op.join(preproc_path, subject, 'func', '{}_task-sitrep_run-{}_bold_middle-vol'.format(subject, run))\n",
    "split_nbr = '0000'\n",
    "epi_moco = op.join(preproc_path, subject, 'func', subject+ '_task-music_run-1_bold_moco.mat/', 'MAT_' + split_nbr)\n",
    "\n",
    "# We will name its warp as split0000\n",
    "warp_name = op.join(preproc_path, subject, 'func', subject + '_split' + split_nbr + '_epi_2_std_warp')\n",
    "\n",
    "# Get the transformation matrix of this volume (this one is actually the unit matrix, \n",
    "# since this volume is the reference)\n",
    "#TODOOOOOOOOOOOOOOOO\n",
    "\n",
    "# -- Step 1: Combine the transformations, that is :\n",
    "#    EPI -> Motion correction -> Coregistration to anatomical -> Normalization to standard\n",
    "#    EPI -> Motion correction is given by the matrix in sub-001_task-sitrep_run-01_bold_moco.mat/MAT_{vol_nbr}, where {vol_nbr} is the volume number of the volume of interest\n",
    "#    EPI -> Coreg to anatomical, this is the _warp.nii.gz file in func/ folder\n",
    "\n",
    "\n",
    "#    Anatomical > Template is saved by flirt when doing the anatomical to template coregistration, in anat/ folder\n",
    "func_2_anat= op.join(preproc_path, subject, 'func', subject+ '_task-music_run-1_bold_anat-space_warp.nii.gz') # contains affine transformation from EPI to T1 sapce\n",
    "\n",
    "combine_all_transforms(ref, warp_name, True, epi_2_moco=None, epi_2_anat_warp=func_2_anat, anat_2_standard_warp=anat_2_mni_trans)\n",
    "out_vol= op.join(preproc_path, subject, 'func', subject+ '_task-music_run-1_bold_std_vol' + split_nbr)\n",
    "\n",
    "# -- Step 2: Apply the transformation to our EPI\n",
    "subprocess.run(['applywarp', '-i', target_epi, '-r', ref, '-o', out_vol, '-w', warp_name, '--abs', '--premat={}'.format(epi_moco)])"
   ]
  },
  {
   "cell_type": "markdown",
   "id": "726aac8f-141e-4f19-a8a3-7565dfccb903",
   "metadata": {},
   "source": [
    "### 1.2.4 Applying the transformation to the entire timeseries at last - flirt does this on its own"
   ]
  },
  {
   "cell_type": "code",
   "execution_count": null,
   "id": "d126bebc-2239-40c2-8bda-5fee086ae365",
   "metadata": {},
   "outputs": [],
   "source": [
    "split_target = original_epi\n",
    "split_name = op.join(preproc_path, 'sub-001', 'func', 'sub-001_task-sitrep_run-01_bold_split')\n",
    "\n",
    "subprocess.run(['fslsplit', split_target, split_name, '-t'])\n",
    "print_dir_tree(bids_root,max_depth=5)"
   ]
  },
  {
   "cell_type": "code",
   "execution_count": null,
   "id": "05990653-c8d0-4a35-9d6f-35345ea80535",
   "metadata": {},
   "outputs": [],
   "source": [
    "# Let's combine the different transforms EXCEPT motion correction!\n",
    "warp_name = op.join(preproc_path, 'sub-001', 'func', 'sub-001_epi_moco_2_std_warp')\n",
    "\n",
    "print(\"Starting to combine transforms...\")\n",
    "#combine_all_transforms(ref, warp_name,  True, epi_2_moco=None, epi_2_anat_warp=func_2_anat, anat_2_standard_warp=anat_2_mni_trans)\n",
    "print(\"Done, moving on to application of transforms...\")\n",
    "\n",
    "###########\n",
    "# Now apply transformation to all our volumes.\n",
    "# We will remember the volumes as well, to group them back afterwards.\n",
    "##########\n",
    "\n",
    "# Notice that we are sorting the volumes here! This is important, to make sure we don't get them in random order :)\n",
    "split_vols = sorted(glob.glob(op.join(preproc_path, subject, 'func', '*_bold_split*')))\n",
    "\n",
    "\n",
    "# Define a function that wraps subprocess.run()\n",
    "def run_subprocess(split_vol, vol_nbr):\n",
    "    \"\"\"\n",
    "    SAFETY GOGGLES ON\n",
    "    This function launches applywarp in parallel to reach complete result quicker\n",
    "\n",
    "    Parameters\n",
    "    -----------\n",
    "    split_vol: str\n",
    "        Path to the volume on which to apply the transformation\n",
    "    vol_nbr: str\n",
    "        Number of the volume in the timeserie. Useful to reorder volumes after the fact, since parallelisation does not honour order.\n",
    "\n",
    "    Returns\n",
    "    -------\n",
    "    out_vol: str\n",
    "        Path to the transformed volume\n",
    "    vol_nbr: str\n",
    "        Number of the volume in the timeserie. Useful to reorder volumes after the fact.\n",
    "    \"\"\"\n",
    "    try:\n",
    "        split_nbr = split_vol.split('_')[-1].split('.')[0].split('split')[1]\n",
    "        epi_moco = op.join(preproc_path, 'sub-001', 'func', 'sub-001_task-sitrep_run-01_bold_moco.mat/', 'MAT_' + split_nbr)\n",
    "        out_vol= op.join(preproc_path, 'sub-001', 'func', 'sub-001_task-sitrep_run-01_bold_std_vol' + split_nbr)\n",
    "        result = subprocess.run(['applywarp', '-i', split_vol, '-r', ref, '-o', out_vol, '-w', warp_name, '--abs', '--premat={}'.format(epi_moco)], check=True)\n",
    "        return out_vol, vol_nbr\n",
    "    except subprocess.CalledProcessError as e:\n",
    "        return f\"applywarp for volume '{split_vol}' failed with error: {e.stderr.decode('utf-8')}\"\n",
    "\n",
    "\n",
    "produced_vols = [None]*len(split_vols)\n",
    "# Initialize ThreadPoolExecutor and the progress bar\n",
    "with concurrent.futures.ThreadPoolExecutor() as executor:\n",
    "    # Use tqdm to wrap the futures\n",
    "    with tqdm(total=len(split_vols)) as progress:\n",
    "        # Launch subprocesses in parallel\n",
    "        futures = {executor.submit(run_subprocess, vol,i): vol for i,vol in enumerate(split_vols)}\n",
    "\n",
    "        # Process completed tasks\n",
    "        for future in concurrent.futures.as_completed(futures):\n",
    "            out_vol, vol_nbr = future.result()  # Get the result of the subprocess\n",
    "            produced_vols[vol_nbr] = out_vol\n",
    "            # Update the progress bar for each completed task\n",
    "            progress.update(1)"
   ]
  },
  {
   "cell_type": "markdown",
   "id": "c207cc9b-173f-4c10-9b2a-5c13bea3cadb",
   "metadata": {},
   "source": [
    "## Smoothing"
   ]
  },
  {
   "cell_type": "code",
   "execution_count": 97,
   "id": "d5a7de95-79e1-4717-987f-a27348eae3d6",
   "metadata": {},
   "outputs": [
    {
     "data": {
      "text/plain": [
       "CompletedProcess(args=['fslmaths', '/data/data/derivatives/preprocessed_data/sub-control01/func/sub-control01_task-music_run-all_bold_moco', '-s', '2.547987090198743', '/data/data/derivatives/preprocessed_data/sub-control01/func/final/sub-control01_task-music_run-all_bold_smoothed-6mm'], returncode=0)"
      ]
     },
     "execution_count": 97,
     "metadata": {},
     "output_type": "execute_result"
    }
   ],
   "source": [
    "mkdir_no_exist(op.join(preproc_path, subject, 'func', 'final'))\n",
    "output_path = op.join(preproc_path, subject, 'func', 'final','sub-control01_task-music_run-all_bold') \n",
    "subprocess.run(['fslmaths',path_moco_data, '-s', str(6/2.3548), '{}_smoothed-6mm'.format(output_path)])"
   ]
  },
  {
   "cell_type": "markdown",
   "id": "c1b5c140-2f9f-4c60-b5ec-c852deb76a4c",
   "metadata": {},
   "source": [
    "## Slice Time correction (a faire encore)"
   ]
  },
  {
   "cell_type": "code",
   "execution_count": null,
   "id": "5bdb7f97-2456-488d-b253-aa85316df3fc",
   "metadata": {},
   "outputs": [],
   "source": [
    "#Very big red box telling you that this part takes 1h"
   ]
  },
  {
   "cell_type": "code",
   "execution_count": null,
   "id": "3b5ffd1b-ed00-413f-87ef-2d6939cc938c",
   "metadata": {},
   "outputs": [],
   "source": [
    "import pandas as pd"
   ]
  },
  {
   "cell_type": "code",
   "execution_count": null,
   "id": "6f4755f3-a9ea-4e19-b20e-859cb9efcc3f",
   "metadata": {},
   "outputs": [],
   "source": [
    "task='music'\n",
    "data = pd.read_json(op.join(dataset_path, 'task-{}_bold.json'.format(task)), typ= 'series')\n",
    "slice_timing = data['SliceTiming']\n",
    "tr = data['RepetitionTime'] "
   ]
  },
  {
   "cell_type": "code",
   "execution_count": null,
   "id": "b2029284-0bea-40b1-b5c6-1d2c6ddd2025",
   "metadata": {},
   "outputs": [],
   "source": [
    "# get the informations in the header -to determine the number of slices\n",
    "os.system('fslhd {}'.format(op.join(bids_root, 'sub-001', 'func', 'sub-001_task-sitrep_run-01_bold.nii.gz')))"
   ]
  },
  {
   "cell_type": "code",
   "execution_count": null,
   "id": "f847fa4d-7092-4d3d-80be-6ecb28c2c916",
   "metadata": {},
   "outputs": [],
   "source": [
    "len(slice_timing) #check which dimensions has the slices"
   ]
  },
  {
   "cell_type": "code",
   "execution_count": null,
   "id": "9311a219-e67d-4b41-ba97-c3a0524e85a9",
   "metadata": {},
   "outputs": [],
   "source": [
    "slice_order = np.argsort(slice_timing) + 1\n",
    "\n",
    "# Write to a file the corresponding sorted timings :)\n",
    "timing_path = op.join(preproc_path,  'sub-001', 'func', 'sub-001_task-sitrep_run-01_slice-timings.txt')\n",
    "file = open(timing_path, mode='w')\n",
    "for t in slice_order:\n",
    "    file.write(str(t) + '\\n')\n",
    "file.close()"
   ]
  },
  {
   "cell_type": "code",
   "execution_count": null,
   "id": "9eefaaa0-7c9c-4636-bc4d-f2db3a632ff6",
   "metadata": {},
   "outputs": [],
   "source": [
    "file_to_realign = op.join(bids_root, 'sub-001', 'func', 'sub-001_task-sitrep_run-01_bold')\n",
    "output_target = op.join(preproc_path, 'sub-001', 'func', 'sub-001_task-sitrep_run-01_bold_slice-corr')\n",
    "\n",
    "subprocess.run(['slicetimer', '-i', file_to_realign, '-o', output_target, '-r', str(tr), '-d', str(3), '--ocustom={}'.format(timing_path)])\n"
   ]
  },
  {
   "cell_type": "code",
   "execution_count": 102,
   "id": "e63a9e58-7a0c-4e21-8780-ceac4049029d",
   "metadata": {},
   "outputs": [],
   "source": [
    "fsleyesDisplay.resetOverlays()\n",
    "fsleyesDisplay.load('./data/derivatives/preprocessed_data/sub-control01/func/final/sub-control01_task-music_run-all_bold_smoothed-6mm.nii.gz')"
   ]
  },
  {
   "cell_type": "code",
   "execution_count": null,
   "id": "5c16291f-babb-4cd3-bbc1-0e967e4e9377",
>>>>>>> 410645aee8b2f8abf51392f45c303395214b4b5a
   "metadata": {},
   "outputs": [
    {
     "name": "stdout",
     "output_type": "stream",
     "text": [
      "/data\n"
     ]
    }
   ],
   "source": [
    "print(current_dir)"
   ]
  }
 ],
 "metadata": {
  "kernelspec": {
   "display_name": "Python [conda env:NX-421]",
   "language": "python",
   "name": "conda-env-NX-421-py"
  },
  "language_info": {
   "codemirror_mode": {
    "name": "ipython",
    "version": 3
   },
   "file_extension": ".py",
   "mimetype": "text/x-python",
   "name": "python",
   "nbconvert_exporter": "python",
   "pygments_lexer": "ipython3",
   "version": "3.9.19"
  }
 },
 "nbformat": 4,
 "nbformat_minor": 5
}
