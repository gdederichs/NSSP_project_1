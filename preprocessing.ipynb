{
 "cells": [
  {
   "cell_type": "code",
   "execution_count": 1,
   "id": "2b6dc1a6-c057-4d60-a79a-82927cbf3550",
   "metadata": {},
   "outputs": [],
   "source": [
    "from utils import mkdir_no_exist\n",
    "import os\n",
    "import sys\n",
    "import subprocess\n",
    "\n",
    "import pandas as pd\n",
    "import numpy as np\n",
    "import json"
   ]
  },
  {
   "cell_type": "code",
   "execution_count": 2,
   "id": "b7c9b6bd-99b5-4496-9286-4cbc49e86d98",
   "metadata": {},
   "outputs": [],
   "source": [
    "current_dir = os.path.abspath(\"\")\n",
    "sys.path.append(current_dir)"
   ]
  },
  {
   "cell_type": "code",
   "execution_count": 3,
   "id": "bff2d82f-266c-4f26-bc8f-83fbae95ad53",
   "metadata": {},
   "outputs": [],
   "source": [
    "dataset_id = 'ds000171'\n",
    "subjects = ['sub-control{:02d}'.format(i+1) for i in range(20)]\n",
    "\n",
    "dataset_path = os.path.join(current_dir, \"data\", dataset_id)\n",
    "deriv_path = os.path.join(current_dir,\"data\", \"derivatives\")\n",
    "preproc_path = os.path.join(deriv_path, 'preprocessed_data')\n",
    "\n",
    "mkdir_no_exist(dataset_path)\n",
    "mkdir_no_exist(preproc_path)\n",
    "\n",
    "# download files yourself from google drive into dataset_path\n"
   ]
  },
  {
   "cell_type": "code",
   "execution_count": 4,
   "id": "aade4da7-1157-443c-b6be-05fd1e7f2d21",
   "metadata": {},
   "outputs": [
    {
     "name": "stdout",
     "output_type": "stream",
     "text": [
      "/data\n"
     ]
    }
   ],
   "source": [
    "print(current_dir)"
   ]
  }
 ],
 "metadata": {
  "kernelspec": {
   "display_name": "Python [conda env:NX-421]",
   "language": "python",
   "name": "conda-env-NX-421-py"
  },
  "language_info": {
   "codemirror_mode": {
    "name": "ipython",
    "version": 3
   },
   "file_extension": ".py",
   "mimetype": "text/x-python",
   "name": "python",
   "nbconvert_exporter": "python",
   "pygments_lexer": "ipython3",
   "version": "3.9.19"
  }
 },
 "nbformat": 4,
 "nbformat_minor": 5
}
