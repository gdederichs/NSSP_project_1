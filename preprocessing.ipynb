{
 "cells": [
  {
   "cell_type": "code",
   "execution_count": 1,
   "id": "ddb3e06b-bfdb-469e-9b60-7490ba2c393a",
   "metadata": {},
   "outputs": [],
   "source": [
    "%gui wx\n",
    "\n",
    "%load_ext autoreload\n",
    "%autoreload 2\n",
    "import sys\n",
    "import os\n",
    "\n",
    "#####################\n",
    "# Import of utils.py functions\n",
    "#####################\n",
    "# Required to get utils.py and access its functions\n",
    "notebook_dir = os.path.abspath(\"\")\n",
    "parent_dir = os.path.abspath(os.path.join(notebook_dir, '..'))\n",
    "sys.path.append(parent_dir)\n",
    "sys.path.append('.')\n",
    "from utils import loadFSL, FSLeyesServer, mkdir_no_exist, interactive_MCQ\n",
    "\n",
    "####################\n",
    "# DIPY_HOME should be set prior to import of dipy to make sure all downloads point to the right folder\n",
    "####################\n",
    "os.environ[\"DIPY_HOME\"] = \"/home/jovyan/Data\"\n",
    "\n",
    "\n",
    "#############################\n",
    "# Loading fsl and freesurfer within Neurodesk\n",
    "# You can find the list of available other modules by clicking on the \"Softwares\" tab on the left\n",
    "#############################\n",
    "import lmod\n",
    "await lmod.purge(force=True)\n",
    "await lmod.load('fsl/6.0.7.4')\n",
    "await lmod.load('freesurfer/7.4.1')\n",
    "await lmod.list()\n",
    "\n",
    "####################\n",
    "# Setup FSL path\n",
    "####################\n",
    "loadFSL()\n",
    "\n",
    "###################\n",
    "# Load all relevant libraries for the lab\n",
    "##################\n",
    "import fsl.wrappers\n",
    "from fsl.wrappers import fslmaths\n",
    "\n",
    "import mne_nirs\n",
    "import nilearn\n",
    "from nilearn.datasets import fetch_development_fmri\n",
    "\n",
    "import mne\n",
    "import mne_nirs\n",
    "import dipy\n",
    "from dipy.data import fetch_bundles_2_subjects, read_bundles_2_subjects\n",
    "import xml.etree.ElementTree as ET\n",
    "import os.path as op\n",
    "import nibabel as nib\n",
    "import glob\n",
    "\n",
    "import ants\n",
    "\n",
    "import openneuro\n",
    "from mne.datasets import sample\n",
    "from mne_bids import BIDSPath, read_raw_bids, print_dir_tree, make_report\n",
    "\n",
    "\n",
    "# Useful imports to define the direct download function below\n",
    "import requests\n",
    "import urllib.request\n",
    "from tqdm import tqdm\n",
    "\n",
    "\n",
    "# FSL function wrappers which we will call from python directly\n",
    "from fsl.wrappers import fast, bet\n",
    "from fsl.wrappers.misc import fslroi\n",
    "from fsl.wrappers import flirt"
   ]
  },
  {
   "cell_type": "code",
   "execution_count": 3,
   "id": "b3dafa9c-8251-45c4-8395-77fc8eb8180e",
   "metadata": {},
   "outputs": [
    {
     "name": "stdout",
     "output_type": "stream",
     "text": [
      "current_dir: /data\n"
     ]
    }
   ],
   "source": [
    "current_dir = os.path.abspath(\"\")\n",
    "print(f\"current_dir: {current_dir}\")\n",
    "sys.path.append(current_dir)\n",
    "\n",
    "dataset_id = 'ds000171'\n",
    "subjects = ['sub-control{:02d}'.format(i+1) for i in range(20)]\n",
    "\n",
    "dataset_path = os.path.join(current_dir, \"data\", dataset_id)\n",
    "deriv_path = os.path.join(current_dir,\"data\", \"derivatives\")\n",
    "preproc_path = os.path.join(deriv_path, 'preprocessed_data')\n",
    "\n",
    "subject = \"sub-control01\"\n",
    "\n",
    "mkdir_no_exist(dataset_path)\n",
    "mkdir_no_exist(preproc_path)"
   ]
  },
  {
   "cell_type": "code",
   "execution_count": 4,
   "id": "aade4da7-1157-443c-b6be-05fd1e7f2d21",
   "metadata": {},
   "outputs": [
    {
     "name": "stderr",
     "output_type": "stream",
     "text": [
      "21:54:59: Debug: Adding duplicate image handler for 'Windows bitmap file'\n",
      "21:54:59: Debug: Adding duplicate animation handler for '1' type\n",
      "21:54:59: Debug: Adding duplicate animation handler for '2' type\n",
      "21:54:59: Debug: Adding duplicate image handler for 'Windows bitmap file'\n",
      "21:54:59: Debug: Adding duplicate animation handler for '1' type\n",
      "21:54:59: Debug: Adding duplicate animation handler for '2' type\n",
      "\n",
      "(ipykernel_launcher.py:10106): Gtk-CRITICAL **: 21:54:59.429: gtk_window_resize: assertion 'height > 0' failed\n"
     ]
    }
   ],
   "source": [
    "fsleyesDisplay = FSLeyesServer()\n",
    "fsleyesDisplay.show()"
   ]
  },
  {
   "cell_type": "markdown",
   "id": "aba14914-5a25-441f-8b26-cd3795cdabe2",
   "metadata": {},
   "source": [
    "Overview of the brain before any preprocessing"
   ]
  },
  {
   "cell_type": "code",
   "execution_count": 4,
   "id": "5f7a45f0-2e82-4408-ac75-3d9823140ca8",
   "metadata": {},
   "outputs": [
    {
     "name": "stderr",
     "output_type": "stream",
     "text": [
      "\n",
      "(ipykernel_launcher.py:8846): Gdk-WARNING **: 21:45:02.925: gdkdrawable-x11.c:952 drawable is not a pixmap or window\n",
      "21:45:02: Debug: ClientToScreen cannot work when toplevel window is not shown\n",
      "21:45:02: Debug: ClientToScreen cannot work when toplevel window is not shown\n",
      "\n",
      "(ipykernel_launcher.py:8846): Gdk-WARNING **: 21:45:02.927: gdkdrawable-x11.c:952 drawable is not a pixmap or window\n",
      "21:45:02: Debug: ClientToScreen cannot work when toplevel window is not shown\n",
      "21:45:02: Debug: ClientToScreen cannot work when toplevel window is not shown\n",
      "\n",
      "(ipykernel_launcher.py:8846): Gdk-WARNING **: 21:45:02.928: gdkdrawable-x11.c:952 drawable is not a pixmap or window\n",
      "21:45:02: Debug: ClientToScreen cannot work when toplevel window is not shown\n",
      "21:45:02: Debug: ClientToScreen cannot work when toplevel window is not shown\n",
      "\n",
      "(ipykernel_launcher.py:8846): Gdk-WARNING **: 21:45:02.930: gdkdrawable-x11.c:952 drawable is not a pixmap or window\n",
      "21:45:02: Debug: ClientToScreen cannot work when toplevel window is not shown\n",
      "21:45:02: Debug: ClientToScreen cannot work when toplevel window is not shown\n",
      "\n",
      "(ipykernel_launcher.py:8846): Gdk-WARNING **: 21:45:02.930: gdkdrawable-x11.c:952 drawable is not a pixmap or window\n",
      "21:45:02: Debug: ClientToScreen cannot work when toplevel window is not shown\n",
      "21:45:02: Debug: ClientToScreen cannot work when toplevel window is not shown\n",
      "\n",
      "(ipykernel_launcher.py:8846): Gdk-WARNING **: 21:45:02.933: gdkdrawable-x11.c:952 drawable is not a pixmap or window\n",
      "21:45:02: Debug: ClientToScreen cannot work when toplevel window is not shown\n",
      "21:45:02: Debug: ClientToScreen cannot work when toplevel window is not shown\n",
      "\n",
      "(ipykernel_launcher.py:8846): Gdk-WARNING **: 21:45:02.935: gdkdrawable-x11.c:952 drawable is not a pixmap or window\n",
      "21:45:02: Debug: ClientToScreen cannot work when toplevel window is not shown\n",
      "21:45:02: Debug: ClientToScreen cannot work when toplevel window is not shown\n"
     ]
    }
   ],
   "source": [
    "fsleyesDisplay.resetOverlays()\n",
    "image_path = op.join(dataset_path, subject, 'anat', '{}_T1w.nii.gz').format(subject)\n",
    "fsleyesDisplay.load(image_path)"
   ]
  },
  {
   "cell_type": "markdown",
   "id": "799fc6f1-8d98-4134-b584-26cc9977980b",
   "metadata": {},
   "source": [
    "1. Skull Removal"
   ]
  },
  {
   "cell_type": "code",
   "execution_count": 5,
   "id": "9ce668b1-d3aa-48b0-b8e0-d03d773b3467",
   "metadata": {},
   "outputs": [
    {
     "name": "stdout",
     "output_type": "stream",
     "text": [
      "Done with BET.\n"
     ]
    }
   ],
   "source": [
    "from preprocessed import get_skull_stripped_anatomical\n",
    "\n",
    "resulting_mask = get_skull_stripped_anatomical(dataset_path, preproc_path, subject, robust=True)"
   ]
  },
  {
   "cell_type": "code",
   "execution_count": 6,
   "id": "85c60a04-d8fd-410c-9a67-4c179592ece8",
   "metadata": {},
   "outputs": [
    {
     "name": "stderr",
     "output_type": "stream",
     "text": [
      "\n",
      "(ipykernel_launcher.py:8846): Gdk-WARNING **: 21:45:13.111: gdkdrawable-x11.c:952 drawable is not a pixmap or window\n",
      "21:45:13: Debug: ClientToScreen cannot work when toplevel window is not shown\n",
      "21:45:13: Debug: ClientToScreen cannot work when toplevel window is not shown\n",
      "\n",
      "(ipykernel_launcher.py:8846): Gdk-WARNING **: 21:45:13.113: gdkdrawable-x11.c:952 drawable is not a pixmap or window\n",
      "21:45:13: Debug: ClientToScreen cannot work when toplevel window is not shown\n",
      "21:45:13: Debug: ClientToScreen cannot work when toplevel window is not shown\n",
      "\n",
      "(ipykernel_launcher.py:8846): Gdk-WARNING **: 21:45:13.114: gdkdrawable-x11.c:952 drawable is not a pixmap or window\n",
      "21:45:13: Debug: ClientToScreen cannot work when toplevel window is not shown\n",
      "21:45:13: Debug: ClientToScreen cannot work when toplevel window is not shown\n",
      "\n",
      "(ipykernel_launcher.py:8846): Gdk-WARNING **: 21:45:13.116: gdkdrawable-x11.c:952 drawable is not a pixmap or window\n",
      "21:45:13: Debug: ClientToScreen cannot work when toplevel window is not shown\n",
      "21:45:13: Debug: ClientToScreen cannot work when toplevel window is not shown\n",
      "\n",
      "(ipykernel_launcher.py:8846): Gdk-WARNING **: 21:45:13.117: gdkdrawable-x11.c:952 drawable is not a pixmap or window\n",
      "21:45:13: Debug: ClientToScreen cannot work when toplevel window is not shown\n",
      "21:45:13: Debug: ClientToScreen cannot work when toplevel window is not shown\n",
      "\n",
      "(ipykernel_launcher.py:8846): Gdk-WARNING **: 21:45:13.118: gdkdrawable-x11.c:952 drawable is not a pixmap or window\n",
      "21:45:13: Debug: ClientToScreen cannot work when toplevel window is not shown\n",
      "21:45:13: Debug: ClientToScreen cannot work when toplevel window is not shown\n",
      "\n",
      "(ipykernel_launcher.py:8846): Gdk-WARNING **: 21:45:13.120: gdkdrawable-x11.c:952 drawable is not a pixmap or window\n",
      "21:45:13: Debug: ClientToScreen cannot work when toplevel window is not shown\n",
      "21:45:13: Debug: ClientToScreen cannot work when toplevel window is not shown\n"
     ]
    }
   ],
   "source": [
    "fsleyesDisplay.resetOverlays()\n",
    "\n",
    "fsleyesDisplay.load(op.join(dataset_path, subject, 'anat', '{}_T1w.nii.gz').format(subject))\n",
    "fsleyesDisplay.load(resulting_mask)"
   ]
  },
  {
   "cell_type": "code",
   "execution_count": 7,
   "id": "81d43988-c127-423c-a097-cb9349e4a079",
   "metadata": {},
   "outputs": [],
   "source": [
    "# The brain without skull is in the derivatives folder\n",
    "from preprocessed import apply_fsl_mask\n",
    "\n",
    "betted_brain_path = apply_fsl_mask(dataset_path, resulting_mask, preproc_path, subject)"
   ]
  },
  {
   "cell_type": "code",
   "execution_count": 8,
   "id": "7f871464-8004-42c0-8575-47afc403e2a1",
   "metadata": {},
   "outputs": [
    {
     "name": "stderr",
     "output_type": "stream",
     "text": [
      "\n",
      "(ipykernel_launcher.py:8846): Gdk-WARNING **: 21:45:15.563: gdkdrawable-x11.c:952 drawable is not a pixmap or window\n",
      "21:45:15: Debug: ClientToScreen cannot work when toplevel window is not shown\n",
      "21:45:15: Debug: ClientToScreen cannot work when toplevel window is not shown\n",
      "\n",
      "(ipykernel_launcher.py:8846): Gdk-WARNING **: 21:45:15.565: gdkdrawable-x11.c:952 drawable is not a pixmap or window\n",
      "21:45:15: Debug: ClientToScreen cannot work when toplevel window is not shown\n",
      "21:45:15: Debug: ClientToScreen cannot work when toplevel window is not shown\n",
      "\n",
      "(ipykernel_launcher.py:8846): Gdk-WARNING **: 21:45:15.566: gdkdrawable-x11.c:952 drawable is not a pixmap or window\n",
      "21:45:15: Debug: ClientToScreen cannot work when toplevel window is not shown\n",
      "21:45:15: Debug: ClientToScreen cannot work when toplevel window is not shown\n",
      "\n",
      "(ipykernel_launcher.py:8846): Gdk-WARNING **: 21:45:15.567: gdkdrawable-x11.c:952 drawable is not a pixmap or window\n",
      "21:45:15: Debug: ClientToScreen cannot work when toplevel window is not shown\n",
      "21:45:15: Debug: ClientToScreen cannot work when toplevel window is not shown\n",
      "\n",
      "(ipykernel_launcher.py:8846): Gdk-WARNING **: 21:45:15.568: gdkdrawable-x11.c:952 drawable is not a pixmap or window\n",
      "21:45:15: Debug: ClientToScreen cannot work when toplevel window is not shown\n",
      "21:45:15: Debug: ClientToScreen cannot work when toplevel window is not shown\n",
      "\n",
      "(ipykernel_launcher.py:8846): Gdk-WARNING **: 21:45:15.571: gdkdrawable-x11.c:952 drawable is not a pixmap or window\n",
      "21:45:15: Debug: ClientToScreen cannot work when toplevel window is not shown\n",
      "21:45:15: Debug: ClientToScreen cannot work when toplevel window is not shown\n",
      "\n",
      "(ipykernel_launcher.py:8846): Gdk-WARNING **: 21:45:15.573: gdkdrawable-x11.c:952 drawable is not a pixmap or window\n",
      "21:45:15: Debug: ClientToScreen cannot work when toplevel window is not shown\n",
      "21:45:15: Debug: ClientToScreen cannot work when toplevel window is not shown\n"
     ]
    }
   ],
   "source": [
    "fsleyesDisplay.resetOverlays()\n",
    "fsleyesDisplay.load(betted_brain_path)"
   ]
  },
  {
   "cell_type": "code",
   "execution_count": 9,
   "id": "96036c49-6463-42e4-bf63-75e76d3b8a1d",
   "metadata": {},
   "outputs": [],
   "source": [
    "#TODO discuss segmentation"
   ]
  },
  {
   "cell_type": "code",
   "execution_count": 10,
   "id": "dbd5d506-f44e-4640-9449-ea3c035e6a2b",
   "metadata": {},
   "outputs": [],
   "source": [
    "from preprocessed import apply_fast\n",
    "bet_path = apply_fast(preproc_path, subject)"
   ]
  },
  {
   "cell_type": "code",
   "execution_count": 11,
   "id": "9b3c2f26-07d2-4076-bcdf-f74a3b6b0164",
   "metadata": {},
   "outputs": [
    {
     "name": "stderr",
     "output_type": "stream",
     "text": [
      "\n",
      "(ipykernel_launcher.py:8846): Gdk-WARNING **: 21:48:06.757: gdkdrawable-x11.c:952 drawable is not a pixmap or window\n",
      "21:48:06: Debug: ClientToScreen cannot work when toplevel window is not shown\n",
      "21:48:06: Debug: ClientToScreen cannot work when toplevel window is not shown\n",
      "\n",
      "(ipykernel_launcher.py:8846): Gdk-WARNING **: 21:48:06.760: gdkdrawable-x11.c:952 drawable is not a pixmap or window\n",
      "21:48:06: Debug: ClientToScreen cannot work when toplevel window is not shown\n",
      "21:48:06: Debug: ClientToScreen cannot work when toplevel window is not shown\n",
      "\n",
      "(ipykernel_launcher.py:8846): Gdk-WARNING **: 21:48:06.763: gdkdrawable-x11.c:952 drawable is not a pixmap or window\n",
      "21:48:06: Debug: ClientToScreen cannot work when toplevel window is not shown\n",
      "21:48:06: Debug: ClientToScreen cannot work when toplevel window is not shown\n",
      "\n",
      "(ipykernel_launcher.py:8846): Gdk-WARNING **: 21:48:06.766: gdkdrawable-x11.c:952 drawable is not a pixmap or window\n",
      "21:48:06: Debug: ClientToScreen cannot work when toplevel window is not shown\n",
      "21:48:06: Debug: ClientToScreen cannot work when toplevel window is not shown\n",
      "\n",
      "(ipykernel_launcher.py:8846): Gdk-WARNING **: 21:48:06.768: gdkdrawable-x11.c:952 drawable is not a pixmap or window\n",
      "21:48:06: Debug: ClientToScreen cannot work when toplevel window is not shown\n",
      "21:48:06: Debug: ClientToScreen cannot work when toplevel window is not shown\n",
      "\n",
      "(ipykernel_launcher.py:8846): Gdk-WARNING **: 21:48:06.771: gdkdrawable-x11.c:952 drawable is not a pixmap or window\n",
      "21:48:06: Debug: ClientToScreen cannot work when toplevel window is not shown\n",
      "21:48:06: Debug: ClientToScreen cannot work when toplevel window is not shown\n",
      "\n",
      "(ipykernel_launcher.py:8846): Gdk-WARNING **: 21:48:06.772: gdkdrawable-x11.c:952 drawable is not a pixmap or window\n",
      "21:48:06: Debug: ClientToScreen cannot work when toplevel window is not shown\n",
      "21:48:06: Debug: ClientToScreen cannot work when toplevel window is not shown\n"
     ]
    }
   ],
   "source": [
    "fsleyesDisplay.resetOverlays()\n",
    "fsleyesDisplay.load(bet_path)\n",
    "fsleyesDisplay.load(glob.glob(op.join(preproc_path, subject, 'anat','*pve_0*'))[0])\n",
    "fsleyesDisplay.load(glob.glob(op.join(preproc_path, subject, 'anat','*pve_1*'))[0])\n",
    "fsleyesDisplay.load(glob.glob(op.join(preproc_path, subject, 'anat','*pve_2*'))[0])\n",
    "fsleyesDisplay.displayCtx.getOpts(fsleyesDisplay.overlayList[1]).cmap = 'Red'\n",
    "fsleyesDisplay.displayCtx.getOpts(fsleyesDisplay.overlayList[2]).cmap = 'Green'\n",
    "fsleyesDisplay.displayCtx.getOpts(fsleyesDisplay.overlayList[3]).cmap = 'Blue'"
   ]
  },
  {
   "cell_type": "markdown",
   "id": "8a5e30be-f473-4abf-b7fd-2bcd497099c6",
   "metadata": {},
   "source": [
    "## Linear normalization using Ants\n",
    "Using advanced normalization tools (ANTS), we standardize the fMRI to a standard, to be able to do comparaisons."
   ]
  },
  {
   "cell_type": "code",
   "execution_count": 12,
   "id": "a6264714-4ce5-443c-b7d4-73377c1997c7",
   "metadata": {},
   "outputs": [],
   "source": [
    "type_of_transform = 'SyN'\n",
    "subfolder='anat'\n",
    "target = op.join(preproc_path, '{}'.format(subject), 'anat', '{}_T1w'.format(subject))\n",
    "reference = op.expandvars(op.join('$FSLDIR', 'data', 'standard', 'MNI152_T1_1mm_brain'))\n",
    "moving_image = ants.image_read(target + '.nii.gz')\n",
    "fixed_image = ants.image_read(reference + '.nii.gz')\n",
    "\n",
    "    # Compute the transformation (non linear) to put align the moving image to the fixed image\n",
    "transformation = ants.registration(fixed=fixed_image, moving=moving_image, type_of_transform = type_of_transform)\n",
    "\n",
    "    # After the transformation has been computed, apply it\n",
    "warpedImage = ants.apply_transforms(fixed=fixed_image, moving=moving_image, transformlist=transformation['fwdtransforms'])\n",
    "\n",
    "    # Save the image to disk\n",
    "resultAnts = op.join(preproc_path, subject, subfolder, '{}_T1w_mni_{}.nii.gz'.format(subject, type_of_transform))\n",
    "ants.image_write(warpedImage, resultAnts)"
   ]
  },
  {
   "cell_type": "code",
   "execution_count": 23,
   "id": "f5ab00e4-fe40-4262-9d7b-00c097492f99",
   "metadata": {},
   "outputs": [],
   "source": [
    "%autoreload 3"
   ]
  },
  {
   "cell_type": "code",
   "execution_count": 5,
   "id": "6ca4e23d-4e50-401f-9f6d-f50f5af308a9",
   "metadata": {},
   "outputs": [],
   "source": [
    "from preprocessed import apply_ants\n",
    "mni_template = op.expandvars(op.join('$FSLDIR', 'data', 'standard', 'MNI152_T1_1mm_brain'))\n",
    "resultAnts = apply_ants(preproc_path, subject, mni_template)"
   ]
  },
  {
   "cell_type": "code",
   "execution_count": 6,
   "id": "03a696a3-73b8-43cf-a878-b58b76189f60",
   "metadata": {},
   "outputs": [
    {
     "name": "stderr",
     "output_type": "stream",
     "text": [
      "\n",
      "(ipykernel_launcher.py:10106): Gdk-WARNING **: 21:57:13.525: gdkdrawable-x11.c:952 drawable is not a pixmap or window\n"
     ]
    }
   ],
   "source": [
    "fsleyesDisplay.resetOverlays()\n",
    "fsleyesDisplay.load(mni_template)\n",
    "fsleyesDisplay.load(resultAnts)"
   ]
  },
  {
   "cell_type": "markdown",
   "id": "edd866d4-7e09-4a9c-9180-53bc11dcd890",
   "metadata": {},
   "source": [
    "## Field Stabilisation\n",
    "Field Stabilisation doesn't seem necessary"
   ]
  },
  {
   "cell_type": "code",
   "execution_count": 13,
   "id": "7061a573-d260-46d6-b422-4e9cf253b21b",
   "metadata": {},
   "outputs": [
    {
     "data": {
      "text/plain": [
       "Text(0, 0.5, 'Mean voxel intensity')"
      ]
     },
     "execution_count": 13,
     "metadata": {},
     "output_type": "execute_result"
    },
    {
     "data": {
      "image/png": "[encoded data removed]",
      "text/plain": [
       "<Figure size 640x480 with 1 Axes>"
      ]
     },
     "metadata": {},
     "output_type": "display_data"
    }
   ],
   "source": [
    "import matplotlib.pyplot as plt\n",
    "import nibabel as nib\n",
    "\n",
    "plt.plot(nib.load(\"/data/data/ds000171/sub-control01/func/sub-control01_task-music_run-1_bold.nii.gz\").get_fdata().mean(axis=(0,1,2)))\n",
    "plt.xlabel('Time (volume)')\n",
    "plt.ylabel('Mean voxel intensity')"
   ]
  },
  {
   "cell_type": "markdown",
   "id": "c701fa91-150a-47f0-8e8b-4d4f974a00ee",
   "metadata": {},
   "source": [
    "## Motion correction"
   ]
  },
  {
   "cell_type": "code",
   "execution_count": 27,
   "id": "cd61c8aa-16c9-4116-8cdc-e8c274e9b359",
   "metadata": {},
   "outputs": [
    {
     "name": "stderr",
     "output_type": "stream",
     "text": [
      "Processed data will be saved as /data/data/derivatives/preprocessed_data/sub-control01/func/sub-control01_task-music_run-1_bold_moco\n",
      "\n",
      "McFLIRT v 2.0 - FMRI motion correction\n",
      "\n",
      "Reading time series... \n",
      "first iteration - 8mm scaling, set tolerance\n",
      "Rescaling reference volume [52] to 8 mm pixels\n",
      "Registering volumes ... [53][54][55][56][57][58][59][60][61][62][63][64][65][66][67][68][69][70][71][72][73][74][75][76][77][78][79][80][81][82][83][84][85][86][87][88][89][90][91][92][93][94][95][96][97][98][99][100][101][102][103][104][51][50][49][48][47][46][45][44][43][42][41][40][39][38][37][36][35][34][33][32][31][30][29][28][27][26][25][24][23][22][21][20][19][18][17][16][15][14][13][12][11][10][9][8][7][6][5][4][3][2][1][0]\n",
      "second iteration - drop to 4mm scaling\n",
      "Rescaling reference volume [52] to 4 mm pixels\n",
      "Registering volumes ... [53][54][55][56][57][58][59][60][61][62][63][64][65][66][67][68][69][70][71][72][73][74][75][76][77][78][79][80][81][82][83][84][85][86][87][88][89][90][91][92][93][94][95][96][97][98][99][100][101][102][103][104][51][50][49][48][47][46][45][44][43][42][41][40][39][38][37][36][35][34][33][32][31][30][29][28][27][26][25][24][23][22][21][20][19][18][17][16][15][14][13][12][11][10][9][8][7][6][5][4][3][2][1][0]\n",
      "third iteration - 4mm scaling, eighth tolerance\n"
     ]
    },
    {
     "name": "stdout",
     "output_type": "stream",
     "text": [
      "refnum = 52\n",
      "Original_refvol = -1\n"
     ]
    },
    {
     "name": "stderr",
     "output_type": "stream",
     "text": [
      "Registering volumes ... [53][54][55][56][57][58][59][60][61][62][63][64][65][66][67][68][69][70][71][72][73][74][75][76][77][78][79][80][81][82][83][84][85][86][87][88][89][90][91][92][93][94][95][96][97][98][99][100][101][102][103][104][51][50][49][48][47][46][45][44][43][42][41][40][39][38][37][36][35][34][33][32][31][30][29][28][27][26][25][24][23][22][21][20][19][18][17][16][15][14][13][12][11][10][9][8][7][6][5][4][3][2][1][0]\n",
      "Saving motion corrected time series... \n"
     ]
    }
   ],
   "source": [
    "from preprocessed import apply_mcflirt\n",
    "task = 'music'\n",
    "run = '1'\n",
    "path_moco_data = apply_mcflirt(dataset_path, preproc_path, subject, task, run)\n",
    "fsleyesDisplay.resetOverlays()\n",
    "fsleyesDisplay.load(path_moco_data)"
   ]
  },
  {
   "cell_type": "code",
   "execution_count": null,
   "id": "d84ace2d-0f8d-4fa8-b596-083a270501dd",
   "metadata": {},
   "outputs": [],
   "source": [
    "print(\"T\")"
   ]
  },
  {
   "cell_type": "code",
   "execution_count": null,
   "id": "2f54b66e-26eb-47cc-b0c6-5808bc878ae4",
   "metadata": {},
   "outputs": [],
   "source": []
  },
  {
   "cell_type": "code",
   "execution_count": null,
   "id": "b71519b4-40d6-4efa-a1a1-7edc36d5d971",
   "metadata": {},
   "outputs": [],
   "source": []
  }
 ],
 "metadata": {
  "kernelspec": {
   "display_name": "Python 3 (ipykernel)",
   "language": "python",
   "name": "python3"
  },
  "language_info": {
   "codemirror_mode": {
    "name": "ipython",
    "version": 3
   },
   "file_extension": ".py",
   "mimetype": "text/x-python",
   "name": "python",
   "nbconvert_exporter": "python",
   "pygments_lexer": "ipython3",
   "version": "3.11.6"
  }
 },
 "nbformat": 4,
 "nbformat_minor": 5
}
