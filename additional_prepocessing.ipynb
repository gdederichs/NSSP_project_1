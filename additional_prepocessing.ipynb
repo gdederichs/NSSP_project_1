{
 "cells": [
  {
   "cell_type": "markdown",
   "id": "7ff71fbf-c509-49da-ae5b-ac7684b02693",
   "metadata": {},
   "source": [
    "# Disclaimer \n",
    "This section should not be run as it takes too much time and results in a 30Gb file with all the 3d volumes concatenated after having been coregistered. Due to limited storage space on the VM we decided not to include this in our preprocessing pipeline but given the effort put into it, to leave it here for the corrector to appreciate the effort nonetheless.\n"
   ]
  },
  {
   "cell_type": "code",
   "execution_count": null,
   "id": "65162f69-9411-41d0-a16a-57d204ff89d7",
   "metadata": {},
   "outputs": [],
   "source": [
    "%gui wx\n",
    "%load_ext autoreload\n",
    "%autoreload 2\n",
    "import sys\n",
    "import os\n",
    "import os.path as op\n",
    "import glob\n",
    "\n",
    "# Import of utils.py functions\n",
    "current_dir = os.path.abspath(\"\")\n",
    "parent_dir = os.path.abspath(os.path.join(current_dir, '..'))\n",
    "sys.path.append(current_dir); sys.path.append(parent_dir); sys.path.append('.')\n",
    "from utils import loadFSL, FSLeyesServer, mkdir_no_exist\n",
    "\n",
    "# Loading fsl and freesurfer within Neurodesk\n",
    "import lmod\n",
    "await lmod.purge(force=True)\n",
    "await lmod.load('fsl/6.0.7.4')\n",
    "await lmod.load('freesurfer/7.4.1')\n",
    "await lmod.list()\n",
    "\n",
    "# FSL function wrappers which we will call from python directly\n",
    "loadFSL() # Setup FSL path\n",
    "from fsl.wrappers import fast, bet, flirt, fslmaths\n",
    "from fsl.wrappers.misc import fslroi\n",
    "\n",
    "import mne\n",
    "import nibabel as nib\n",
    "import nilearn\n",
    "import subprocess\n",
    "import ants\n",
    "import openneuro\n",
    "\n",
    "import numpy as np\n",
    "import pandas as pd\n",
    "import matplotlib.pyplot as plt\n",
    "from tqdm import tqdm\n",
    "\n",
    "from preprocessed import viz_fsleyes"
   ]
  },
  {
   "cell_type": "markdown",
   "id": "17e12e3f-e926-4dd5-8da7-e0d67a9f7d79",
   "metadata": {},
   "source": [
    "## Tissue segmentation using fast"
   ]
  },
  {
   "cell_type": "code",
   "execution_count": null,
   "id": "1fe23b8f-d8b3-4769-be6e-1d3a673ea5d4",
   "metadata": {},
   "outputs": [],
   "source": [
    "from preprocessed import apply_fast\n",
    "\n",
    "segmentation_path = apply_fast(preproc_path, subject)\n",
    "pve0 = glob.glob(op.join(preproc_path, subject, 'anat','*pve_0*'))[0]\n",
    "pve1 = glob.glob(op.join(preproc_path, subject, 'anat','*pve_1*'))[0]\n",
    "pve2 = glob.glob(op.join(preproc_path, subject, 'anat','*pve_2*'))[0]\n",
    "viz_fsleyes(fsleyesDisplay, [betted_brain_path, pve0, pve1, pve2], viz=viz)"
   ]
  },
  {
   "cell_type": "markdown",
   "id": "edbcf139-c3e6-45c5-b71f-bf69c45f7b59",
   "metadata": {},
   "source": [
    "## Epi to anatomical coregistration (not implemented)"
   ]
  },
  {
   "cell_type": "code",
   "execution_count": null,
   "id": "08d492c5-8ed0-4922-887a-756acad9a489",
   "metadata": {},
   "outputs": [],
   "source": [
    "from preprocessed import apply_epi_reg\n",
    "epi_reg_path, reference_epi = apply_epi_reg(dataset_path, preproc_path, path_moco_data, subject, task, 'all')\n",
    "\n",
    "# We did the coregistration of the reference volume and get a transform, now we need to apply it to all volumes"
   ]
  },
  {
   "cell_type": "code",
   "execution_count": null,
   "id": "9b1b4c47-ad03-4732-9661-3fdd3ebc7fbb",
   "metadata": {},
   "outputs": [],
   "source": [
    "# Inspect if the transformation worked\n",
    "\n",
    "viz_fsleyes(fsleyesDisplay, [betted_brain_path, epi_reg_path], viz=viz)"
   ]
  },
  {
   "cell_type": "code",
   "execution_count": null,
   "id": "2b1de4d6-0a4c-43da-95c2-3aaa086fa50a",
   "metadata": {},
   "outputs": [],
   "source": [
    "#Check how the white matter of the EPI matches the anatomical's white matter\n",
    "\n",
    "viz_fsleyes(fsleyesDisplay, \n",
    "            ['./data/derivatives/preprocessed_data/sub-control01/func/sub-control01_task-music_run-all_bold_anat-space_epi_fast_wmseg.nii.gz', './data/derivatives/preprocessed_data/sub-control01/anat/sub-control01_T1w_fast_pve_2'], \n",
    "            viz=viz)\n"
   ]
  },
  {
   "cell_type": "code",
   "execution_count": null,
   "id": "70b17884-7fd8-4cef-b3bd-b4c40ec67e39",
   "metadata": {
    "scrolled": true
   },
   "outputs": [],
   "source": [
    "splits_epi_path = op.join(preproc_path, subject, 'func','splits_epi')\n",
    "mkdir_no_exist(splits_epi_path)\n",
    "\n",
    "start = 0\n",
    "\n",
    "for i, split_vol in tqdm(enumerate(split_vols[start:]), initial = start, total = 315): \n",
    "    split_nbr = split_vol.split('_')[-1].split('.')[0].split('split')[1]\n",
    "    out_vol = op.join(splits_epi_path,'sub-control01_task-music_run-all_bold_epi_vol' + split_nbr) # or output to desktop\n",
    "    \n",
    "    subprocess.run(['flirt', '-in', split_vol, '-ref', anatomical_path,'-out', out_vol,\n",
    "                        '-init', path_epi_transform,'-applyxfm'])\n",
    "os.system('rm -rf {}'.format(op.join(splits_path, '*_bold_split*'))) # remove the splits from disk"
   ]
  },
  {
   "cell_type": "code",
   "execution_count": null,
   "id": "f0aef77b-f11e-488d-b3a5-58a85439a6e3",
   "metadata": {},
   "outputs": [],
   "source": [
    "from preprocessed import combine_splits\n",
    "\n",
    "epi_all = combine_splits(preproc_path, splits_epi_path, subject)\n",
    "#Compare against anatomical path\n",
    "viz_fsleyes(fsleyesDisplay, [anatomical_path, epi_all], viz=viz)\n"
   ]
  }
 ],
 "metadata": {
  "kernelspec": {
   "display_name": "Python 3 (ipykernel)",
   "language": "python",
   "name": "python3"
  },
  "language_info": {
   "codemirror_mode": {
    "name": "ipython",
    "version": 3
   },
   "file_extension": ".py",
   "mimetype": "text/x-python",
   "name": "python",
   "nbconvert_exporter": "python",
   "pygments_lexer": "ipython3",
   "version": "3.11.6"
  }
 },
 "nbformat": 4,
 "nbformat_minor": 5
}
