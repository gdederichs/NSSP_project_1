{
 "cells": [
  {
   "cell_type": "markdown",
   "id": "0caf9561-70ac-4db9-bfb8-c17d640d264e",
   "metadata": {},
   "source": [
    "### Important\n",
    "The code was done on an example dataset. Need to change to the real preprocessed data when available"
   ]
  },
  {
   "cell_type": "code",
   "execution_count": null,
   "id": "d33c41be-21f9-401d-b146-f882408f9656",
   "metadata": {},
   "outputs": [],
   "source": [
    "import pandas as pd\n",
    "import numpy as np\n",
    "import sys\n",
    "import os\n",
    "import os.path as op\n",
    "from utils import mkdir_no_exist\n",
    "\n",
    "import nibabel as nib\n",
    "from nilearn.glm import threshold_stats_img\n",
    "from nilearn.glm.first_level import make_first_level_design_matrix, FirstLevelModel\n",
    "from nilearn.plotting import plot_design_matrix, plot_contrast_matrix, plot_stat_map\n",
    "from nilearn.image import mean_img\n",
    "\n",
    "from matplotlib import pyplot as plt"
   ]
  },
  {
   "cell_type": "code",
   "execution_count": null,
   "id": "64f6d3a0-3282-41fc-b669-d3015433b4f2",
   "metadata": {},
   "outputs": [],
   "source": [
    "# ACCESS DIRECTORIES #\n",
    "\n",
    "current_dir = os.path.abspath(\"\")\n",
    "print(f\"current_dir: {current_dir}\")\n",
    "sys.path.append(current_dir)\n",
    "\n",
    "dataset_id = 'ds000171'\n",
    "subjects = ['sub-control{:02d}'.format(i+1) for i in range(20)]\n",
    "\n",
    "dataset_path = os.path.join(current_dir, \"data\", dataset_id)\n",
    "deriv_path = os.path.join(current_dir,\"data\", \"derivatives\")\n",
    "preproc_path = os.path.join(deriv_path, 'preprocessed_data')\n",
    "\n",
    "mkdir_no_exist(dataset_path)\n",
    "mkdir_no_exist(preproc_path)\n"
   ]
  },
  {
   "cell_type": "code",
   "execution_count": null,
   "id": "2c31a0a2-501c-4fc4-b2bc-5733806c5ef2",
   "metadata": {
    "scrolled": true
   },
   "outputs": [],
   "source": [
    "# READ AND CONCAT EVENTS #\n",
    "\n",
    "events = {}\n",
    "for i in range(1,4):\n",
    "    events[i] = pd.read_csv(os.path.join(dataset_path,subjects[0],\"func\",f\"sub-control01_task-music_run-{i}_events.tsv\"), sep = \"\\t\")\n",
    "    if i>1: #adjust onset time for concatenation\n",
    "        events[i]['onset'] += (events[i-1]['onset'].iloc[-1] + events[i-1]['duration'].iloc[-1])\n",
    "        \n",
    "# for key, event in events.items():\n",
    "#     display(f\"EVENT #{key}\\n\",event)\n",
    "events_concat = pd.concat(events.values(),ignore_index=True)\n",
    "display(events_concat)\n",
    "events_concat.to_csv(op.join(deriv_path, 'events_concat.csv'))"
   ]
  },
  {
   "cell_type": "code",
   "execution_count": null,
   "id": "95d2fb98-3778-4647-b973-ee6af9025a3e",
   "metadata": {
    "scrolled": true
   },
   "outputs": [],
   "source": [
    "# ONLY FOR TESTING: need to replace with the preprocessed data\n",
    "# plotted design matrix is not correct until glm is fit to own data!\n",
    "\n",
    "from nilearn.datasets import fetch_spm_auditory\n",
    "subject_data = fetch_spm_auditory()\n",
    "\n",
    "from nilearn.image import concat_imgs, mean_img\n",
    "fmri_img = concat_imgs(subject_data.func)"
   ]
  },
  {
   "cell_type": "code",
   "execution_count": null,
   "id": "5f3b3a91-004c-4593-9f60-ce475ff9603d",
   "metadata": {},
   "outputs": [],
   "source": [
    "task_music_bold = pd.read_json(op.join(dataset_path, \"task-music_bold.json\"), typ = 'series')\n",
    "\n",
    "fmri_glm = FirstLevelModel(t_r = task_music_bold.RepetitionTime, \n",
    "                           noise_model='ar1',\n",
    "                           standardize=False,\n",
    "                           hrf_model='spm + derivative',\n",
    "                           drift_model=\"cosine\",\n",
    "                           high_pass=.01)\n",
    "\n",
    "# Fit the model to our design and data\n",
    "fmri_glm = fmri_glm.fit(fmri_img, events_concat)\n",
    "\n",
    "# ONLY FOR TESTING: only has 80 scans bcs is fit against example fMRI,\n",
    "# not the correct dataset\n",
    "design = fmri_glm.design_matrices_[0]\n",
    "plot_design_matrix(design,rescale=True, output_file = op.join(deriv_path, 'design_matrix.jpg'))\n",
    "plt.show()"
   ]
  },
  {
   "cell_type": "markdown",
   "id": "de1e42c3-6aa5-43a4-87eb-c3f59c8089fb",
   "metadata": {},
   "source": [
    "### Still to do for design matrix\n",
    "- Discuss if add drift (I think yes)\n",
    "- Discuss if add derivatives (and dispersions?) of regressors\n",
    "\n",
    "  Yup it is justified since it captures better different shapes of empirical HRF\n",
    "\n",
    "  Considerations on overfitting - i think we are very far from what i have understood"
   ]
  },
  {
   "cell_type": "markdown",
   "id": "7676812a-d838-4f18-bb8b-d4d85220fd01",
   "metadata": {},
   "source": [
    "### Beta/ Statistical maps of each of the regressors"
   ]
  },
  {
   "cell_type": "code",
   "execution_count": null,
   "id": "ffa4b2ea-4698-4796-87e2-6c599998b050",
   "metadata": {},
   "outputs": [],
   "source": [
    "def condition_vector(position:int, n_regressors:int)->np.array:\n",
    "    vec = np.zeros((1,n_regressors))\n",
    "    vec[0,position] = 1\n",
    "    return vec\n",
    "\n",
    "n_regressors = design.shape[1]\n",
    "conditions = {\n",
    "    col:condition_vector(idx, n_regressors) for idx, col in enumerate(design.columns)\n",
    "}"
   ]
  },
  {
   "cell_type": "code",
   "execution_count": null,
   "id": "49187c53-5dbc-4f1e-9a40-5fc8856af8c9",
   "metadata": {},
   "outputs": [],
   "source": [
    "# All those that are not covariates\n",
    "covariates = [key for key, value in conditions.items() if \"drift\" in key or \"constant\" in key]\n",
    "conditions_of_interest = {key: value for key, value in conditions.items() if key not in covariates}\n",
    "\n",
    "betas_zmap = op.join(preproc_path,'betas_zmap')\n",
    "mkdir_no_exist(betas_zmap)\n",
    "\n",
    "cluster_size = 10 #number of voxels for a cluster to be kept\n",
    "fdr_rate = 0.05 # alpha = 5%"
   ]
  },
  {
   "cell_type": "code",
   "execution_count": null,
   "id": "0b70e658-517b-4a37-8ee4-2e089e1e8fa9",
   "metadata": {
    "scrolled": true
   },
   "outputs": [],
   "source": [
    "#Plot the statistical map of a single component\n",
    "key = 'negative_music'\n",
    "value = conditions_of_interest[key]\n",
    "\n",
    "z_map = fmri_glm.compute_contrast(value, output_type='z_score')\n",
    "clean_map, threshold = threshold_stats_img(z_map, alpha=fdr_rate, height_control='fdr', cluster_threshold=cluster_size)\n",
    "\n",
    "mean_img_ = mean_img(fmri_img),\n",
    "plot_stat_map(clean_map, bg_img=mean_img_[0], threshold=threshold,\n",
    "              display_mode='z', cut_coords=None, black_bg=True,\n",
    "              title='Condition {} (fdr={}, threshold={}), clusters > {} voxels'.format(key, fdr_rate, threshold.round(2), cluster_size),\n",
    "              #output_file = op.join(betas_zmap,f\"z_map_fdr5p_cl10_{key}.jpg\")\n",
    "              )\n",
    "plt.show()"
   ]
  },
  {
   "cell_type": "code",
   "execution_count": null,
   "id": "ba830ab4-9bd1-4048-a62e-731b7257eadd",
   "metadata": {},
   "outputs": [],
   "source": [
    "fig, axs = plt.subplots(len(conditions_of_interest), 1, figsize=(15,40))\n",
    "for i, (key,value) in enumerate(conditions_of_interest.items()):\n",
    "    z_map = fmri_glm.compute_contrast(value, output_type='z_score')\n",
    "    \n",
    "    # Apply the FDR correction + threshold\n",
    "    clean_map, threshold = threshold_stats_img(z_map, alpha=fdr_rate, height_control='fdr', cluster_threshold=cluster_size)\n",
    "    \n",
    "    plot_stat_map(clean_map, bg_img=mean_img_[0], threshold=threshold,\n",
    "                  display_mode='z', cut_coords=None, black_bg=True,\n",
    "                  title='Condition {} (fdr={}, threshold={})'.format(key, fdr_rate, threshold.round(2)),\n",
    "                  axes = axs[i])\n",
    "fig.suptitle(f\"Statistical maps of all regressors (FDR = {fdr_rate} and clusters > {cluster_size})\")\n",
    "plt.show()"
   ]
  },
  {
   "cell_type": "markdown",
   "id": "403a1080-3d06-4438-942a-f3c723367aee",
   "metadata": {},
   "source": [
    "### Contrasts"
   ]
  },
  {
   "cell_type": "code",
   "execution_count": null,
   "id": "b18de480-2162-4ffc-b553-7ce24abb2221",
   "metadata": {},
   "outputs": [],
   "source": [
    "positive_music_position = 2\n",
    "negative_music_position = 0\n",
    "\n",
    "pos_vs_neg = conditions['positive_music'] - conditions['negative_music']\n",
    "\n",
    "plot_contrast_matrix(pos_vs_neg, design_matrix=design, output_file = op.join(deriv_path, 'contrast_pos_neg.jpg'))\n",
    "plt.show()"
   ]
  },
  {
   "cell_type": "code",
   "execution_count": null,
   "id": "ea87c175-14f9-41e8-b884-9a380c214e77",
   "metadata": {},
   "outputs": [],
   "source": [
    "z_map = fmri_glm.compute_contrast(pos_vs_neg, output_type='z_score')\n",
    "fdr_rate, cluster_size = 0.05, 10\n",
    "clean_map, threshold = threshold_stats_img(z_map,\n",
    "                                           alpha=fdr_rate,\n",
    "                                           height_control='fdr',\n",
    "                                           cluster_threshold=cluster_size)\n",
    "\n",
    "mean_img_ = mean_img(fmri_img),\n",
    "plot_stat_map(clean_map,\n",
    "              bg_img=mean_img_[0],\n",
    "              threshold=threshold,\n",
    "              display_mode='z',\n",
    "              cut_coords=[-3,20,36,70],\n",
    "              black_bg=True,\n",
    "              title='Positive vs. Negative Music (fdr={}, threshold={:.2f}, clusters > {} voxels)'.format(fdr_rate, threshold, cluster_size))\n",
    "plt.show()"
   ]
  }
 ],
 "metadata": {
  "kernelspec": {
   "display_name": "Python [conda env:NX-421]",
   "language": "python",
   "name": "conda-env-NX-421-py"
  },
  "language_info": {
   "codemirror_mode": {
    "name": "ipython",
    "version": 3
   },
   "file_extension": ".py",
   "mimetype": "text/x-python",
   "name": "python",
   "nbconvert_exporter": "python",
   "pygments_lexer": "ipython3",
   "version": "3.9.19"
  }
 },
 "nbformat": 4,
 "nbformat_minor": 5
}
