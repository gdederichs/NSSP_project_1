{
 "cells": [
  {
   "cell_type": "markdown",
   "id": "0caf9561-70ac-4db9-bfb8-c17d640d264e",
   "metadata": {},
   "source": [
    "### Important\n",
    "The code was done on an example dataset. Need to change to the real preprocessed data when available"
   ]
  },
  {
   "cell_type": "code",
   "execution_count": null,
   "id": "d33c41be-21f9-401d-b146-f882408f9656",
   "metadata": {},
   "outputs": [],
   "source": [
    "import pandas as pd\n",
    "import numpy as np\n",
    "import sys\n",
    "import os\n",
    "import os.path as op\n",
    "from utils import mkdir_no_exist#, make_mask_from_aal\n",
    "\n",
    "import nibabel as nib\n",
    "from nilearn import image, datasets\n",
    "from nilearn.glm import threshold_stats_img\n",
    "from nilearn.glm.first_level import make_first_level_design_matrix, FirstLevelModel\n",
    "from nilearn.plotting import plot_design_matrix, plot_contrast_matrix, plot_stat_map, plot_roi\n",
    "from nilearn.image import mean_img\n",
    "\n",
    "from matplotlib import pyplot as plt"
   ]
  },
  {
   "cell_type": "code",
   "execution_count": null,
   "id": "64f6d3a0-3282-41fc-b669-d3015433b4f2",
   "metadata": {},
   "outputs": [],
   "source": [
    "# ACCESS DIRECTORIES #\n",
    "\n",
    "current_dir = os.path.abspath(\"\")\n",
    "print(f\"current_dir: {current_dir}\")\n",
    "sys.path.append(current_dir)\n",
    "\n",
    "dataset_id = 'ds000171'\n",
    "subjects = ['sub-control{:02d}'.format(i+1) for i in range(20)]\n",
    "\n",
    "dataset_path = os.path.join(current_dir, \"data\", dataset_id)\n",
    "deriv_path = os.path.join(current_dir,\"data\", \"derivatives\")\n",
    "preproc_path = os.path.join(deriv_path, 'preprocessed_data')\n",
    "\n",
    "mkdir_no_exist(dataset_path)\n",
    "mkdir_no_exist(preproc_path)\n"
   ]
  },
  {
   "cell_type": "code",
   "execution_count": null,
   "id": "2c31a0a2-501c-4fc4-b2bc-5733806c5ef2",
   "metadata": {
    "scrolled": true
   },
   "outputs": [],
   "source": [
    "# READ AND CONCAT EVENTS #\n",
    "\n",
    "events = {}\n",
    "for i in range(1,4):\n",
    "    events[i] = pd.read_csv(os.path.join(dataset_path,subjects[0],\"func\",f\"sub-control01_task-music_run-{i}_events.tsv\"), sep = \"\\t\")\n",
    "    if i>1: #adjust onset time for concatenation\n",
    "        events[i]['onset'] += (events[i-1]['onset'].iloc[-1] + events[i-1]['duration'].iloc[-1])\n",
    "        \n",
    "# for key, event in events.items():\n",
    "#     display(f\"EVENT #{key}\\n\",event)\n",
    "events_concat = pd.concat(events.values(),ignore_index=True)\n",
    "display(events_concat)\n",
    "events_concat.to_csv(op.join(deriv_path, 'events_concat.csv'))"
   ]
  },
  {
   "cell_type": "code",
   "execution_count": null,
   "id": "95d2fb98-3778-4647-b973-ee6af9025a3e",
   "metadata": {
    "scrolled": true
   },
   "outputs": [],
   "source": [
    "# ONLY FOR TESTING: need to replace with the preprocessed data\n",
    "# plotted design matrix is not correct until glm is fit to own data!\n",
    "\n",
    "# from nilearn.datasets import fetch_spm_auditory\n",
    "# subject_data = fetch_spm_auditory()\n",
    "\n",
    "# from nilearn.image import concat_imgs, mean_img\n",
    "# fmri_img = concat_imgs(subject_data.func)\n",
    "\n",
    "fmri_img = nib.load(op.join(preproc_path,\"sub-control01/func/final/sub-control01_task-music_run-all_bold_smoothed-9mm.nii.gz\"))"
   ]
  },
  {
   "cell_type": "code",
   "execution_count": null,
   "id": "5ca36123-b979-4c3e-ab3c-8fe1e1826340",
   "metadata": {},
   "outputs": [],
   "source": [
    "fmri_img.shape"
   ]
  },
  {
   "cell_type": "code",
   "execution_count": null,
   "id": "5f3b3a91-004c-4593-9f60-ce475ff9603d",
   "metadata": {},
   "outputs": [],
   "source": [
    "task_music_bold = pd.read_json(op.join(dataset_path, \"task-music_bold.json\"), typ = 'series')\n",
    "\n",
    "# fmri_glm = FirstLevelModel(t_r = task_music_bold.RepetitionTime, \n",
    "#                            noise_model='ar1',\n",
    "#                            standardize=False,\n",
    "#                            hrf_model='spm + derivative + dispersion',\n",
    "#                            drift_model=\"cosine\",\n",
    "#                            high_pass=.01)\n",
    "\n",
    "# # Fit the model to our design and data\n",
    "# fmri_glm = fmri_glm.fit(fmri_img, events_concat)\n",
    "# design = fmri_glm.design_matrices_[0]\n",
    "\n",
    "# plot_design_matrix(design,rescale=True, output_file = op.join(deriv_path, 'design_matrix.jpg'))\n"
   ]
  },
  {
   "cell_type": "code",
   "execution_count": null,
   "id": "1aef2a12-c076-4787-ac00-7260d004d331",
   "metadata": {},
   "outputs": [],
   "source": [
    "t_r = task_music_bold.RepetitionTime\n",
    "n_scans = fmri_img.get_fdata().shape[-1]\n",
    "# .get_fdata()\n",
    "frame_times = (\n",
    "    np.arange(n_scans) * t_r\n",
    ")\n",
    "\n",
    "motion_outliers = [104, 121, 122, 209]\n",
    "new_regs = []\n",
    "new_reg_names = []\n",
    "for idx, out_frame in enumerate(motion_outliers):\n",
    "    column_values = np.zeros(n_scans)\n",
    "    column_values[out_frame] = 1\n",
    "    new_regs.append(column_values)\n",
    "    new_reg_names.append(f\"motion_outlier_{idx}\")\n",
    "new_regs = np.vstack(new_regs)\n",
    "                    \n",
    "\n",
    "design = make_first_level_design_matrix(frame_times = frame_times,\n",
    "                                        events= events_concat, \n",
    "                                        hrf_model='spm + derivative + dispersion',\n",
    "                                        drift_model=\"cosine\",\n",
    "                                        high_pass = .01,\n",
    "                                        add_regs = new_regs.T,\n",
    "                                        add_reg_names = new_reg_names,\n",
    "                                       )\n",
    "\n",
    "plot_design_matrix(design,rescale=False, output_file = op.join(deriv_path, 'design_matrix.jpg'))\n",
    "plot_design_matrix(design, rescale=False)\n",
    "plt.show()"
   ]
  },
  {
   "cell_type": "code",
   "execution_count": null,
   "id": "d97f44d9-57cf-4cd1-b801-0b0416b31e04",
   "metadata": {},
   "outputs": [],
   "source": [
    "fmri_glm = FirstLevelModel(t_r = task_music_bold.RepetitionTime, \n",
    "                           noise_model='ar1',\n",
    "                           standardize=False,\n",
    "                           hrf_model='spm + derivative + dispersion',\n",
    "                           drift_model=\"cosine\",\n",
    "                           high_pass=.01)\n",
    "fmri_glm = fmri_glm.fit(fmri_img, design_matrices=[design])"
   ]
  },
  {
   "cell_type": "markdown",
   "id": "7676812a-d838-4f18-bb8b-d4d85220fd01",
   "metadata": {},
   "source": [
    "### Beta/ Statistical maps of each of the regressors"
   ]
  },
  {
   "cell_type": "code",
   "execution_count": null,
   "id": "d214263f-25d6-4241-a392-8460d5659a2b",
   "metadata": {},
   "outputs": [],
   "source": [
    "to_show = [x for x in np.arange(-30,30,5)]\n",
    "z_threshold = 1.5"
   ]
  },
  {
   "cell_type": "code",
   "execution_count": null,
   "id": "ffa4b2ea-4698-4796-87e2-6c599998b050",
   "metadata": {},
   "outputs": [],
   "source": [
    "def condition_vector(position:int, n_regressors:int)->np.array:\n",
    "    vec = np.zeros((1,n_regressors))\n",
    "    vec[0,position] = 1\n",
    "    return vec\n",
    "\n",
    "n_regressors = design.shape[1]\n",
    "conditions = {\n",
    "    col:condition_vector(idx, n_regressors) for idx, col in enumerate(design.columns)\n",
    "}"
   ]
  },
  {
   "cell_type": "code",
   "execution_count": null,
   "id": "49187c53-5dbc-4f1e-9a40-5fc8856af8c9",
   "metadata": {},
   "outputs": [],
   "source": [
    "# All those that are not covariates\n",
    "covariates = [key for key, value in conditions.items() if \"drift\" in key or \"constant\" in key or \"outlier\" in key or \"derivative\" in key or \"dispersion\" in key]\n",
    "conditions_of_interest = {key: value for key, value in conditions.items() if key not in covariates}\n",
    "\n",
    "betas_zmap = op.join(preproc_path,'betas_zmap')\n",
    "mkdir_no_exist(betas_zmap)\n",
    "\n",
    "cluster_size = 1 #number of voxels for a cluster to be kept\n",
    "fdr_rate = 0.05 # alpha = 5%"
   ]
  },
  {
   "cell_type": "code",
   "execution_count": null,
   "id": "0b70e658-517b-4a37-8ee4-2e089e1e8fa9",
   "metadata": {
    "scrolled": true
   },
   "outputs": [],
   "source": [
    "#TESTING: Plot the statistical map of a single component\n",
    "# key = 'negative_music'\n",
    "# value = conditions_of_interest[key]\n",
    "\n",
    "# z_map = fmri_glm.compute_contrast(value, output_type='z_score')\n",
    "\n",
    "# mean_img_ = mean_img(fmri_img),\n",
    "# plot_stat_map(z_map,\n",
    "#               bg_img=mean_img_[0],\n",
    "#               threshold=z_threshold,\n",
    "#               display_mode='z',\n",
    "#               cut_coords=to_show,\n",
    "#               black_bg=True,\n",
    "#               title='Condition: {} (|Z|>{})'.format(key, z_threshold),\n",
    "#               #output_file = op.join(betas_zmap,f\"z_map_fdr5p_cl10_{key}.jpg\")\n",
    "#               )\n",
    "# plt.show()\n"
   ]
  },
  {
   "cell_type": "code",
   "execution_count": null,
   "id": "ba830ab4-9bd1-4048-a62e-731b7257eadd",
   "metadata": {},
   "outputs": [],
   "source": [
    "mean_img_ = mean_img(fmri_img),\n",
    "fig, axs = plt.subplots(len(conditions_of_interest), 1, figsize=(20,14))\n",
    "for i, (key,value) in enumerate(conditions_of_interest.items()):\n",
    "    z_map = fmri_glm.compute_contrast(value, output_type='z_score')\n",
    "    \n",
    "    \n",
    "    plot_stat_map(z_map,\n",
    "                  bg_img=mean_img_[0],\n",
    "                  threshold=z_threshold,\n",
    "                  display_mode='z',\n",
    "                  cut_coords=to_show,\n",
    "                  black_bg=True,\n",
    "                  title='Condition: {} (|Z|>{})'.format(key, z_threshold),\n",
    "                  axes = axs[i])\n",
    "plt.subplots_adjust(wspace=0, hspace=0)\n",
    "output_plot_path = 'data/derivatives/all_cdts_9mm.png'\n",
    "plt.savefig(output_plot_path, format='png')\n",
    "plt.show()"
   ]
  },
  {
   "cell_type": "markdown",
   "id": "403a1080-3d06-4438-942a-f3c723367aee",
   "metadata": {},
   "source": [
    "### Contrasts"
   ]
  },
  {
   "cell_type": "code",
   "execution_count": null,
   "id": "b18de480-2162-4ffc-b553-7ce24abb2221",
   "metadata": {},
   "outputs": [],
   "source": [
    "positive_music_position = 2\n",
    "negative_music_position = 0\n",
    "\n",
    "pos_vs_neg = conditions['positive_music'] - conditions['negative_music']\n",
    "\n",
    "plot_contrast_matrix(pos_vs_neg, design_matrix=design, output_file = op.join(deriv_path, 'contrast_pos_neg.jpg'))\n",
    "plt.show()"
   ]
  },
  {
   "cell_type": "code",
   "execution_count": null,
   "id": "7da381b3-99d3-4846-ae17-ef0f008fbabb",
   "metadata": {},
   "outputs": [],
   "source": [
    "z_map = fmri_glm.compute_contrast(pos_vs_neg, output_type='z_score')\n",
    "\n",
    "mean_img_ = mean_img(fmri_img),\n",
    "plot_stat_map(z_map,\n",
    "              bg_img=mean_img_[0],\n",
    "              threshold=z_threshold,\n",
    "              display_mode='z',\n",
    "              cut_coords=to_show,\n",
    "              black_bg=True,\n",
    "              title='Positive minus Negative Music (|Z|>{})'.format(z_threshold))\n",
    "output_plot_path = 'data/derivatives/contrast_9mm.png'\n",
    "plt.savefig(output_plot_path, format='png')\n",
    "plt.show()"
   ]
  },
  {
   "cell_type": "markdown",
   "id": "aec5c6cf-b321-4dbf-b51f-ec79f554e8c5",
   "metadata": {},
   "source": [
    "### AAL overlay"
   ]
  },
  {
   "cell_type": "code",
   "execution_count": null,
   "id": "7c71d239-065e-438b-abbb-c20be3c112cd",
   "metadata": {},
   "outputs": [],
   "source": [
    "from nilearn import datasets, image\n",
    "from nilearn.image import resample_to_img\n",
    "import ants\n",
    "\n",
    "atlas_path = \"data/derivatives/atlas_template.nii\"\n",
    "fMRI_MNI_path = op.join(preproc_path,\"sub-control01/func/sub-control01_task-music_run-all_bold_moco_MNI.nii\")\n",
    "\n",
    "def atlas_fMRI_MNI(fmri_img, atlas_path, fMRI_MNI_path):\n",
    "    aal_atlas = datasets.fetch_atlas_aal(version='SPM12')\n",
    "    atlas_img = image.load_img(aal_atlas.maps)\n",
    "    atlas_img.to_filename(atlas_path)\n",
    "    \n",
    "    fmri_resampled = resample_to_img(fmri_img, atlas_img, interpolation='continuous')\n",
    "    mean_fmri=mean_img(fmri_resampled)\n",
    "    fmri_resampled_path = op.join(preproc_path,\"sub-control01/func/sub-control01_task-music_run-all_bold_moco_resampled.nii\")\n",
    "    mean_fmri.to_filename(fmri_resampled_path)\n",
    "    \n",
    "    moving_image = ants.image_read(fmri_resampled_path)\n",
    "    fixed_image = ants.image_read(\"data/derivatives/atlas_template.nii\")\n",
    "    \n",
    "    transformation = ants.registration(fixed=fixed_image, moving=moving_image, type_of_transform = 'SyN')\n",
    "    warpedImage = ants.apply_transforms(fixed=fixed_image, moving=moving_image, transformlist=transformation['fwdtransforms'])  \n",
    "    ants.image_write(warpedImage, fMRI_MNI_path)\n",
    "\n",
    "    return aal_atlas, atlas_img, nib.load(fMRI_MNI_path)\n",
    "\n",
    "aal_atlas, atlas_img, fMRI_MNI = atlas_fMRI_MNI(fmri_img, atlas_path, fMRI_MNI_path)"
   ]
  },
  {
   "cell_type": "code",
   "execution_count": null,
   "id": "0b26d677-ab9c-4fc6-8d01-92000765172b",
   "metadata": {},
   "outputs": [],
   "source": [
    "deriv_path"
   ]
  },
  {
   "cell_type": "code",
   "execution_count": null,
   "id": "34472c09-f69f-4a57-a91e-a426b3f1214f",
   "metadata": {},
   "outputs": [],
   "source": [
    "# TODO: same MNI space -> run it before analysis\n",
    "\n",
    "plot_stat_map(z_map,\n",
    "              bg_img=mean_img_[0],\n",
    "              threshold=z_threshold,\n",
    "              display_mode='z',\n",
    "              cut_coords=to_show,\n",
    "              black_bg=True,\n",
    "              title='Positive minus Negative Music (|Z|>2)',\n",
    "              # output_file = op.join(deriv_path,\"Z_contrasts\"),\n",
    "            )\n",
    "\n",
    "plot_roi(atlas_img,\n",
    "          bg_img=fMRI_MNI,\n",
    "          display_mode='z',\n",
    "          cut_coords=to_show,\n",
    "          alpha=0.3,\n",
    "          title=\"AAL Atlas Overlay\",\n",
    "          # output_file = op.join(deriv_path,\"contrast_ROI\"),\n",
    "        )\n",
    "\n",
    "plt.show()"
   ]
  },
  {
   "cell_type": "code",
   "execution_count": null,
   "id": "56ab8046-6f41-4712-9f9d-ec70d61e67ca",
   "metadata": {},
   "outputs": [],
   "source": [
    "# oooor choose which one\n",
    "\n",
    "def make_mask_from_aal(mask_value, mask_name):\n",
    "    # Load the AAL atlas\n",
    "    aal_atlas = datasets.fetch_atlas_aal(version='SPM12')\n",
    "    atlas_img = image.load_img(aal_atlas.maps)\n",
    "    atlas_data = atlas_img.get_fdata()  # Extract atlas data as numpy array\n",
    "\n",
    "    # Create a binary mask for the specified region\n",
    "    mask_data = atlas_data == mask_value\n",
    "\n",
    "    # Create a new Nifti image with the mask\n",
    "    mask_img = nib.Nifti1Image(mask_data.astype(np.uint8), atlas_img.affine, atlas_img.header)\n",
    "\n",
    "    # Save the mask\n",
    "    if \".nii\" not in mask_name:\n",
    "        mask_name += \".nii\"\n",
    "    nib.save(mask_img, mask_name)\n",
    "\n",
    "mask_value = 2001  # Replace with the region value from the AAL atlas\n",
    "mask_name = \"mask.nii.gz\"  # Name the mask file\n",
    "\n",
    "make_mask_from_aal(mask_value, mask_name)\n",
    "\n",
    "# Overlay AAL atlas mask on top of the fMRI\n",
    "plot_roi(mask_name,\n",
    "          bg_img=fMRI_MNI,\n",
    "          display_mode='z',\n",
    "          cut_coords=[-3, 20, 36, 70],\n",
    "          alpha=0.3,\n",
    "          title=\"AAL Atlas Overlay\")\n",
    "\n",
    "plt.show()\n"
   ]
  },
  {
   "cell_type": "code",
   "execution_count": null,
   "id": "e14f10a9-779a-46b0-bcf5-614ec1951f6d",
   "metadata": {},
   "outputs": [],
   "source": [
    "for idx, label in enumerate(aal_atlas.labels):\n",
    "    print('{:<21s} {}'.format(label, aal_atlas.indices[idx]))"
   ]
  },
  {
   "cell_type": "code",
   "execution_count": null,
   "id": "47d011b7-4698-486f-bfbe-8f0af987993f",
   "metadata": {},
   "outputs": [],
   "source": []
  }
 ],
 "metadata": {
  "kernelspec": {
   "display_name": "Python 3 (ipykernel)",
   "language": "python",
   "name": "python3"
  },
  "language_info": {
   "codemirror_mode": {
    "name": "ipython",
    "version": 3
   },
   "file_extension": ".py",
   "mimetype": "text/x-python",
   "name": "python",
   "nbconvert_exporter": "python",
   "pygments_lexer": "ipython3",
   "version": "3.11.6"
  }
 },
 "nbformat": 4,
 "nbformat_minor": 5
}
