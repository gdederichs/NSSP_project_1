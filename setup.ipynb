{
 "cells": [
  {
   "cell_type": "code",
   "execution_count": null,
   "id": "26054167-36cd-4ecf-b940-0e188b481bcb",
   "metadata": {},
   "outputs": [],
   "source": [
    "from utils import mkdir_no_exist\n",
    "import os"
   ]
  },
  {
   "cell_type": "code",
   "execution_count": null,
   "id": "46e90dcd-35f4-4ff6-a46a-9d198da3c6d7",
   "metadata": {},
   "outputs": [],
   "source": [
    "dataset_id = 'ds000171'\n",
    "subjects = ['sub-control' + str(i+1) for i in range(20)]\n",
    "\n",
    "# dataset_path = ..."
   ]
  }
 ],
 "metadata": {
  "kernelspec": {
   "display_name": "Python [conda env:NX-421]",
   "language": "python",
   "name": "conda-env-NX-421-py"
  },
  "language_info": {
   "codemirror_mode": {
    "name": "ipython",
    "version": 3
   },
   "file_extension": ".py",
   "mimetype": "text/x-python",
   "name": "python",
   "nbconvert_exporter": "python",
   "pygments_lexer": "ipython3",
   "version": "3.9.19"
  }
 },
 "nbformat": 4,
 "nbformat_minor": 5
}
